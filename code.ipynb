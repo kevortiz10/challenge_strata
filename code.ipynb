{
 "cells": [
  {
   "cell_type": "markdown",
   "metadata": {},
   "source": [
    "## Librerías"
   ]
  },
  {
   "cell_type": "code",
   "execution_count": 1,
   "metadata": {},
   "outputs": [],
   "source": [
    "import pandas as pd\n",
    "import numpy as np\n",
    "import matplotlib.pyplot as plt\n",
    "import seaborn as sns\n",
    "import warnings\n",
    "from sklearn.model_selection import train_test_split\n",
    "from sklearn.preprocessing import StandardScaler\n",
    "from sklearn.linear_model import LogisticRegression\n",
    "from sklearn.metrics import accuracy_score, recall_score, classification_report, roc_auc_score, confusion_matrix\n",
    "\n",
    "warnings.simplefilter(action='ignore', category=FutureWarning)"
   ]
  },
  {
   "cell_type": "markdown",
   "metadata": {},
   "source": [
    "## Código"
   ]
  },
  {
   "cell_type": "markdown",
   "metadata": {},
   "source": [
    "### Carga de archivos"
   ]
  },
  {
   "cell_type": "code",
   "execution_count": 2,
   "metadata": {},
   "outputs": [
    {
     "name": "stdout",
     "output_type": "stream",
     "text": [
      "Shape of the dataframe: (32618, 3).\n"
     ]
    }
   ],
   "source": [
    "clients_cdp = pd.read_csv(\"data/cliente_planes - cliente_cdp.csv\")\n",
    "print(f\"Shape of the dataframe: {clients_cdp.shape}.\")"
   ]
  },
  {
   "cell_type": "code",
   "execution_count": 3,
   "metadata": {},
   "outputs": [
    {
     "name": "stdout",
     "output_type": "stream",
     "text": [
      "Shape of the dataframe: (10901, 7).\n"
     ]
    }
   ],
   "source": [
    "all_clients = pd.read_csv(\"data/datos_clientes - dataset.csv\")\n",
    "print(f\"Shape of the dataframe: {all_clients.shape}.\")"
   ]
  },
  {
   "cell_type": "code",
   "execution_count": 4,
   "metadata": {},
   "outputs": [
    {
     "name": "stdout",
     "output_type": "stream",
     "text": [
      "Shape of the dataframe: (10900, 3).\n"
     ]
    }
   ],
   "source": [
    "call_billing = pd.read_csv(\"data/facturacion_duracion_llamadas_trimestre - f.csv\")\n",
    "print(f\"Shape of the dataframe: {call_billing.shape}.\")"
   ]
  },
  {
   "cell_type": "code",
   "execution_count": 5,
   "metadata": {},
   "outputs": [
    {
     "name": "stdout",
     "output_type": "stream",
     "text": [
      "Shape of the dataframe: (1389, 4).\n"
     ]
    }
   ],
   "source": [
    "segments = pd.read_csv(\"data/segmentos.csv\")\n",
    "print(f\"Shape of the dataframe: {segments.shape}.\")"
   ]
  },
  {
   "cell_type": "markdown",
   "metadata": {},
   "source": [
    "### Unión y exploración de la data"
   ]
  },
  {
   "cell_type": "code",
   "execution_count": 6,
   "metadata": {},
   "outputs": [
    {
     "data": {
      "text/plain": [
       "np.int64(21718)"
      ]
     },
     "execution_count": 6,
     "metadata": {},
     "output_type": "execute_result"
    }
   ],
   "source": [
    "clients_cdp[\"nro_cliente\"].duplicated().sum()"
   ]
  },
  {
   "cell_type": "code",
   "execution_count": 7,
   "metadata": {},
   "outputs": [
    {
     "data": {
      "text/plain": [
       "np.int64(0)"
      ]
     },
     "execution_count": 7,
     "metadata": {},
     "output_type": "execute_result"
    }
   ],
   "source": [
    "all_clients[\"nro_cliente\"].duplicated().sum()"
   ]
  },
  {
   "cell_type": "code",
   "execution_count": 8,
   "metadata": {},
   "outputs": [
    {
     "data": {
      "text/html": [
       "<div>\n",
       "<style scoped>\n",
       "    .dataframe tbody tr th:only-of-type {\n",
       "        vertical-align: middle;\n",
       "    }\n",
       "\n",
       "    .dataframe tbody tr th {\n",
       "        vertical-align: top;\n",
       "    }\n",
       "\n",
       "    .dataframe thead th {\n",
       "        text-align: right;\n",
       "    }\n",
       "</style>\n",
       "<table border=\"1\" class=\"dataframe\">\n",
       "  <thead>\n",
       "    <tr style=\"text-align: right;\">\n",
       "      <th></th>\n",
       "      <th>mes</th>\n",
       "      <th>nro_cliente</th>\n",
       "      <th>Plan_mes</th>\n",
       "      <th>user_id</th>\n",
       "      <th>install_time</th>\n",
       "      <th>platform</th>\n",
       "      <th>country_region</th>\n",
       "      <th>city</th>\n",
       "      <th>gender</th>\n",
       "    </tr>\n",
       "  </thead>\n",
       "  <tbody>\n",
       "    <tr>\n",
       "      <th>0</th>\n",
       "      <td>1</td>\n",
       "      <td>1</td>\n",
       "      <td>95729</td>\n",
       "      <td>10045a3c</td>\n",
       "      <td>2018-07-03 0:02:10</td>\n",
       "      <td>Android</td>\n",
       "      <td>Santa Fe</td>\n",
       "      <td>Avellaneda</td>\n",
       "      <td>male</td>\n",
       "    </tr>\n",
       "    <tr>\n",
       "      <th>1</th>\n",
       "      <td>1</td>\n",
       "      <td>3</td>\n",
       "      <td>96410</td>\n",
       "      <td>1004d93d</td>\n",
       "      <td>2018-07-06 23:09:52</td>\n",
       "      <td>Android</td>\n",
       "      <td>Buenos Aires</td>\n",
       "      <td>San Isidro</td>\n",
       "      <td>female</td>\n",
       "    </tr>\n",
       "    <tr>\n",
       "      <th>2</th>\n",
       "      <td>1</td>\n",
       "      <td>2</td>\n",
       "      <td>96400</td>\n",
       "      <td>1006ac06</td>\n",
       "      <td>2018-07-05 23:03:47</td>\n",
       "      <td>Android</td>\n",
       "      <td>Cordoba</td>\n",
       "      <td>Córdoba</td>\n",
       "      <td>male</td>\n",
       "    </tr>\n",
       "    <tr>\n",
       "      <th>3</th>\n",
       "      <td>1</td>\n",
       "      <td>5</td>\n",
       "      <td>95729</td>\n",
       "      <td>100bc465</td>\n",
       "      <td>2018-07-07 17:02:46</td>\n",
       "      <td>Android</td>\n",
       "      <td>Formosa</td>\n",
       "      <td>Formosa</td>\n",
       "      <td>female</td>\n",
       "    </tr>\n",
       "    <tr>\n",
       "      <th>4</th>\n",
       "      <td>1</td>\n",
       "      <td>4</td>\n",
       "      <td>95420</td>\n",
       "      <td>100bcd07</td>\n",
       "      <td>2018-06-30 3:21:43</td>\n",
       "      <td>Android</td>\n",
       "      <td>Buenos Aires</td>\n",
       "      <td>Lanus</td>\n",
       "      <td>male</td>\n",
       "    </tr>\n",
       "  </tbody>\n",
       "</table>\n",
       "</div>"
      ],
      "text/plain": [
       "   mes  nro_cliente  Plan_mes   user_id         install_time platform  \\\n",
       "0    1            1     95729  10045a3c   2018-07-03 0:02:10  Android   \n",
       "1    1            3     96410  1004d93d  2018-07-06 23:09:52  Android   \n",
       "2    1            2     96400  1006ac06  2018-07-05 23:03:47  Android   \n",
       "3    1            5     95729  100bc465  2018-07-07 17:02:46  Android   \n",
       "4    1            4     95420  100bcd07   2018-06-30 3:21:43  Android   \n",
       "\n",
       "  country_region        city  gender  \n",
       "0       Santa Fe  Avellaneda    male  \n",
       "1   Buenos Aires  San Isidro  female  \n",
       "2        Cordoba     Córdoba    male  \n",
       "3        Formosa     Formosa  female  \n",
       "4   Buenos Aires       Lanus    male  "
      ]
     },
     "execution_count": 8,
     "metadata": {},
     "output_type": "execute_result"
    }
   ],
   "source": [
    "df = pd.merge(left=clients_cdp, right=all_clients, on=\"nro_cliente\", how=\"left\")\n",
    "df.head()"
   ]
  },
  {
   "cell_type": "code",
   "execution_count": 9,
   "metadata": {},
   "outputs": [
    {
     "data": {
      "text/plain": [
       "np.int64(0)"
      ]
     },
     "execution_count": 9,
     "metadata": {},
     "output_type": "execute_result"
    }
   ],
   "source": [
    "call_billing[\"nro_cliente\"].duplicated().sum()"
   ]
  },
  {
   "cell_type": "code",
   "execution_count": 10,
   "metadata": {},
   "outputs": [
    {
     "data": {
      "text/html": [
       "<div>\n",
       "<style scoped>\n",
       "    .dataframe tbody tr th:only-of-type {\n",
       "        vertical-align: middle;\n",
       "    }\n",
       "\n",
       "    .dataframe tbody tr th {\n",
       "        vertical-align: top;\n",
       "    }\n",
       "\n",
       "    .dataframe thead th {\n",
       "        text-align: right;\n",
       "    }\n",
       "</style>\n",
       "<table border=\"1\" class=\"dataframe\">\n",
       "  <thead>\n",
       "    <tr style=\"text-align: right;\">\n",
       "      <th></th>\n",
       "      <th>mes</th>\n",
       "      <th>nro_cliente</th>\n",
       "      <th>Plan_mes</th>\n",
       "      <th>user_id</th>\n",
       "      <th>install_time</th>\n",
       "      <th>platform</th>\n",
       "      <th>country_region</th>\n",
       "      <th>city</th>\n",
       "      <th>gender</th>\n",
       "      <th>sum_fact</th>\n",
       "      <th>sum_duracion</th>\n",
       "    </tr>\n",
       "  </thead>\n",
       "  <tbody>\n",
       "    <tr>\n",
       "      <th>0</th>\n",
       "      <td>1</td>\n",
       "      <td>1</td>\n",
       "      <td>95729</td>\n",
       "      <td>10045a3c</td>\n",
       "      <td>2018-07-03 0:02:10</td>\n",
       "      <td>Android</td>\n",
       "      <td>Santa Fe</td>\n",
       "      <td>Avellaneda</td>\n",
       "      <td>male</td>\n",
       "      <td>645.007199</td>\n",
       "      <td>330.775190</td>\n",
       "    </tr>\n",
       "    <tr>\n",
       "      <th>1</th>\n",
       "      <td>1</td>\n",
       "      <td>3</td>\n",
       "      <td>96410</td>\n",
       "      <td>1004d93d</td>\n",
       "      <td>2018-07-06 23:09:52</td>\n",
       "      <td>Android</td>\n",
       "      <td>Buenos Aires</td>\n",
       "      <td>San Isidro</td>\n",
       "      <td>female</td>\n",
       "      <td>520.514551</td>\n",
       "      <td>565.763348</td>\n",
       "    </tr>\n",
       "    <tr>\n",
       "      <th>2</th>\n",
       "      <td>1</td>\n",
       "      <td>2</td>\n",
       "      <td>96400</td>\n",
       "      <td>1006ac06</td>\n",
       "      <td>2018-07-05 23:03:47</td>\n",
       "      <td>Android</td>\n",
       "      <td>Cordoba</td>\n",
       "      <td>Córdoba</td>\n",
       "      <td>male</td>\n",
       "      <td>1330.167700</td>\n",
       "      <td>30.000000</td>\n",
       "    </tr>\n",
       "    <tr>\n",
       "      <th>3</th>\n",
       "      <td>1</td>\n",
       "      <td>5</td>\n",
       "      <td>95729</td>\n",
       "      <td>100bc465</td>\n",
       "      <td>2018-07-07 17:02:46</td>\n",
       "      <td>Android</td>\n",
       "      <td>Formosa</td>\n",
       "      <td>Formosa</td>\n",
       "      <td>female</td>\n",
       "      <td>555.171059</td>\n",
       "      <td>99.929049</td>\n",
       "    </tr>\n",
       "    <tr>\n",
       "      <th>4</th>\n",
       "      <td>1</td>\n",
       "      <td>4</td>\n",
       "      <td>95420</td>\n",
       "      <td>100bcd07</td>\n",
       "      <td>2018-06-30 3:21:43</td>\n",
       "      <td>Android</td>\n",
       "      <td>Buenos Aires</td>\n",
       "      <td>Lanus</td>\n",
       "      <td>male</td>\n",
       "      <td>1534.166310</td>\n",
       "      <td>371.433155</td>\n",
       "    </tr>\n",
       "  </tbody>\n",
       "</table>\n",
       "</div>"
      ],
      "text/plain": [
       "   mes  nro_cliente  Plan_mes   user_id         install_time platform  \\\n",
       "0    1            1     95729  10045a3c   2018-07-03 0:02:10  Android   \n",
       "1    1            3     96410  1004d93d  2018-07-06 23:09:52  Android   \n",
       "2    1            2     96400  1006ac06  2018-07-05 23:03:47  Android   \n",
       "3    1            5     95729  100bc465  2018-07-07 17:02:46  Android   \n",
       "4    1            4     95420  100bcd07   2018-06-30 3:21:43  Android   \n",
       "\n",
       "  country_region        city  gender     sum_fact  sum_duracion  \n",
       "0       Santa Fe  Avellaneda    male   645.007199    330.775190  \n",
       "1   Buenos Aires  San Isidro  female   520.514551    565.763348  \n",
       "2        Cordoba     Córdoba    male  1330.167700     30.000000  \n",
       "3        Formosa     Formosa  female   555.171059     99.929049  \n",
       "4   Buenos Aires       Lanus    male  1534.166310    371.433155  "
      ]
     },
     "execution_count": 10,
     "metadata": {},
     "output_type": "execute_result"
    }
   ],
   "source": [
    "df = df.merge(right=call_billing, on=\"nro_cliente\", how=\"left\")\n",
    "df.head()"
   ]
  },
  {
   "cell_type": "code",
   "execution_count": 11,
   "metadata": {},
   "outputs": [
    {
     "data": {
      "text/plain": [
       "np.int64(5)"
      ]
     },
     "execution_count": 11,
     "metadata": {},
     "output_type": "execute_result"
    }
   ],
   "source": [
    "segments[\"user_id\"].duplicated().sum()"
   ]
  },
  {
   "cell_type": "code",
   "execution_count": 12,
   "metadata": {},
   "outputs": [],
   "source": [
    "dups_users_segments = segments.loc[segments[\"user_id\"].duplicated(), \"user_id\"].unique().tolist()"
   ]
  },
  {
   "cell_type": "code",
   "execution_count": 13,
   "metadata": {},
   "outputs": [
    {
     "data": {
      "text/html": [
       "<div>\n",
       "<style scoped>\n",
       "    .dataframe tbody tr th:only-of-type {\n",
       "        vertical-align: middle;\n",
       "    }\n",
       "\n",
       "    .dataframe tbody tr th {\n",
       "        vertical-align: top;\n",
       "    }\n",
       "\n",
       "    .dataframe thead th {\n",
       "        text-align: right;\n",
       "    }\n",
       "</style>\n",
       "<table border=\"1\" class=\"dataframe\">\n",
       "  <thead>\n",
       "    <tr style=\"text-align: right;\">\n",
       "      <th></th>\n",
       "      <th>user_id</th>\n",
       "      <th>target_churn_indicator</th>\n",
       "      <th>range_group</th>\n",
       "      <th>n_previous_registers</th>\n",
       "    </tr>\n",
       "  </thead>\n",
       "  <tbody>\n",
       "    <tr>\n",
       "      <th>539</th>\n",
       "      <td>6f1e1709</td>\n",
       "      <td>0</td>\n",
       "      <td>b</td>\n",
       "      <td>1</td>\n",
       "    </tr>\n",
       "    <tr>\n",
       "      <th>540</th>\n",
       "      <td>6f1e1709</td>\n",
       "      <td>0</td>\n",
       "      <td>b</td>\n",
       "      <td>2</td>\n",
       "    </tr>\n",
       "    <tr>\n",
       "      <th>587</th>\n",
       "      <td>75d198ce</td>\n",
       "      <td>0</td>\n",
       "      <td>b</td>\n",
       "      <td>1</td>\n",
       "    </tr>\n",
       "    <tr>\n",
       "      <th>588</th>\n",
       "      <td>75d198ce</td>\n",
       "      <td>0</td>\n",
       "      <td>b</td>\n",
       "      <td>2</td>\n",
       "    </tr>\n",
       "    <tr>\n",
       "      <th>589</th>\n",
       "      <td>75d198ce</td>\n",
       "      <td>0</td>\n",
       "      <td>b</td>\n",
       "      <td>3</td>\n",
       "    </tr>\n",
       "    <tr>\n",
       "      <th>679</th>\n",
       "      <td>85ef5dfe</td>\n",
       "      <td>0</td>\n",
       "      <td>a</td>\n",
       "      <td>1</td>\n",
       "    </tr>\n",
       "    <tr>\n",
       "      <th>680</th>\n",
       "      <td>85ef5dfe</td>\n",
       "      <td>0</td>\n",
       "      <td>a</td>\n",
       "      <td>2</td>\n",
       "    </tr>\n",
       "    <tr>\n",
       "      <th>1003</th>\n",
       "      <td>c103db74</td>\n",
       "      <td>1</td>\n",
       "      <td>b</td>\n",
       "      <td>1</td>\n",
       "    </tr>\n",
       "    <tr>\n",
       "      <th>1004</th>\n",
       "      <td>c103db74</td>\n",
       "      <td>1</td>\n",
       "      <td>b</td>\n",
       "      <td>2</td>\n",
       "    </tr>\n",
       "  </tbody>\n",
       "</table>\n",
       "</div>"
      ],
      "text/plain": [
       "       user_id  target_churn_indicator range_group  n_previous_registers\n",
       "539   6f1e1709                       0           b                     1\n",
       "540   6f1e1709                       0           b                     2\n",
       "587   75d198ce                       0           b                     1\n",
       "588   75d198ce                       0           b                     2\n",
       "589   75d198ce                       0           b                     3\n",
       "679   85ef5dfe                       0           a                     1\n",
       "680   85ef5dfe                       0           a                     2\n",
       "1003  c103db74                       1           b                     1\n",
       "1004  c103db74                       1           b                     2"
      ]
     },
     "execution_count": 13,
     "metadata": {},
     "output_type": "execute_result"
    }
   ],
   "source": [
    "segments[segments[\"user_id\"].isin(dups_users_segments)]"
   ]
  },
  {
   "cell_type": "markdown",
   "metadata": {},
   "source": [
    "Ya que *n_previous_registers* hace referencia a la *cantidad de veces que un cliente estuvo en campaña de upgrade*, se procede a eliminar los duplicados por *user_id* de menor cantidad de registros previos (esta variable es acumulativa)."
   ]
  },
  {
   "cell_type": "code",
   "execution_count": 14,
   "metadata": {},
   "outputs": [],
   "source": [
    "segments = segments.sort_values(by=[\"user_id\", \"n_previous_registers\"], ascending=[True, False])"
   ]
  },
  {
   "cell_type": "code",
   "execution_count": 15,
   "metadata": {},
   "outputs": [
    {
     "data": {
      "text/html": [
       "<div>\n",
       "<style scoped>\n",
       "    .dataframe tbody tr th:only-of-type {\n",
       "        vertical-align: middle;\n",
       "    }\n",
       "\n",
       "    .dataframe tbody tr th {\n",
       "        vertical-align: top;\n",
       "    }\n",
       "\n",
       "    .dataframe thead th {\n",
       "        text-align: right;\n",
       "    }\n",
       "</style>\n",
       "<table border=\"1\" class=\"dataframe\">\n",
       "  <thead>\n",
       "    <tr style=\"text-align: right;\">\n",
       "      <th></th>\n",
       "      <th>user_id</th>\n",
       "      <th>target_churn_indicator</th>\n",
       "      <th>range_group</th>\n",
       "      <th>n_previous_registers</th>\n",
       "    </tr>\n",
       "  </thead>\n",
       "  <tbody>\n",
       "    <tr>\n",
       "      <th>589</th>\n",
       "      <td>75d198ce</td>\n",
       "      <td>0</td>\n",
       "      <td>b</td>\n",
       "      <td>3</td>\n",
       "    </tr>\n",
       "    <tr>\n",
       "      <th>588</th>\n",
       "      <td>75d198ce</td>\n",
       "      <td>0</td>\n",
       "      <td>b</td>\n",
       "      <td>2</td>\n",
       "    </tr>\n",
       "    <tr>\n",
       "      <th>587</th>\n",
       "      <td>75d198ce</td>\n",
       "      <td>0</td>\n",
       "      <td>b</td>\n",
       "      <td>1</td>\n",
       "    </tr>\n",
       "  </tbody>\n",
       "</table>\n",
       "</div>"
      ],
      "text/plain": [
       "      user_id  target_churn_indicator range_group  n_previous_registers\n",
       "589  75d198ce                       0           b                     3\n",
       "588  75d198ce                       0           b                     2\n",
       "587  75d198ce                       0           b                     1"
      ]
     },
     "execution_count": 15,
     "metadata": {},
     "output_type": "execute_result"
    }
   ],
   "source": [
    "segments[segments[\"user_id\"]==\"75d198ce\"]"
   ]
  },
  {
   "cell_type": "code",
   "execution_count": 16,
   "metadata": {},
   "outputs": [],
   "source": [
    "segments = segments.drop_duplicates(subset=[\"user_id\"], keep=\"first\")"
   ]
  },
  {
   "cell_type": "code",
   "execution_count": 17,
   "metadata": {},
   "outputs": [
    {
     "data": {
      "text/html": [
       "<div>\n",
       "<style scoped>\n",
       "    .dataframe tbody tr th:only-of-type {\n",
       "        vertical-align: middle;\n",
       "    }\n",
       "\n",
       "    .dataframe tbody tr th {\n",
       "        vertical-align: top;\n",
       "    }\n",
       "\n",
       "    .dataframe thead th {\n",
       "        text-align: right;\n",
       "    }\n",
       "</style>\n",
       "<table border=\"1\" class=\"dataframe\">\n",
       "  <thead>\n",
       "    <tr style=\"text-align: right;\">\n",
       "      <th></th>\n",
       "      <th>user_id</th>\n",
       "      <th>target_churn_indicator</th>\n",
       "      <th>range_group</th>\n",
       "      <th>n_previous_registers</th>\n",
       "    </tr>\n",
       "  </thead>\n",
       "  <tbody>\n",
       "    <tr>\n",
       "      <th>589</th>\n",
       "      <td>75d198ce</td>\n",
       "      <td>0</td>\n",
       "      <td>b</td>\n",
       "      <td>3</td>\n",
       "    </tr>\n",
       "  </tbody>\n",
       "</table>\n",
       "</div>"
      ],
      "text/plain": [
       "      user_id  target_churn_indicator range_group  n_previous_registers\n",
       "589  75d198ce                       0           b                     3"
      ]
     },
     "execution_count": 17,
     "metadata": {},
     "output_type": "execute_result"
    }
   ],
   "source": [
    "segments[segments[\"user_id\"]==\"75d198ce\"]"
   ]
  },
  {
   "cell_type": "code",
   "execution_count": 18,
   "metadata": {},
   "outputs": [
    {
     "data": {
      "text/plain": [
       "np.int64(0)"
      ]
     },
     "execution_count": 18,
     "metadata": {},
     "output_type": "execute_result"
    }
   ],
   "source": [
    "segments[\"user_id\"].duplicated().sum()"
   ]
  },
  {
   "cell_type": "code",
   "execution_count": 19,
   "metadata": {},
   "outputs": [
    {
     "data": {
      "text/html": [
       "<div>\n",
       "<style scoped>\n",
       "    .dataframe tbody tr th:only-of-type {\n",
       "        vertical-align: middle;\n",
       "    }\n",
       "\n",
       "    .dataframe tbody tr th {\n",
       "        vertical-align: top;\n",
       "    }\n",
       "\n",
       "    .dataframe thead th {\n",
       "        text-align: right;\n",
       "    }\n",
       "</style>\n",
       "<table border=\"1\" class=\"dataframe\">\n",
       "  <thead>\n",
       "    <tr style=\"text-align: right;\">\n",
       "      <th></th>\n",
       "      <th>mes</th>\n",
       "      <th>nro_cliente</th>\n",
       "      <th>Plan_mes</th>\n",
       "      <th>user_id</th>\n",
       "      <th>install_time</th>\n",
       "      <th>platform</th>\n",
       "      <th>country_region</th>\n",
       "      <th>city</th>\n",
       "      <th>gender</th>\n",
       "      <th>sum_fact</th>\n",
       "      <th>sum_duracion</th>\n",
       "      <th>target_churn_indicator</th>\n",
       "      <th>range_group</th>\n",
       "      <th>n_previous_registers</th>\n",
       "    </tr>\n",
       "  </thead>\n",
       "  <tbody>\n",
       "    <tr>\n",
       "      <th>0</th>\n",
       "      <td>1</td>\n",
       "      <td>1</td>\n",
       "      <td>95729</td>\n",
       "      <td>10045a3c</td>\n",
       "      <td>2018-07-03 0:02:10</td>\n",
       "      <td>Android</td>\n",
       "      <td>Santa Fe</td>\n",
       "      <td>Avellaneda</td>\n",
       "      <td>male</td>\n",
       "      <td>645.007199</td>\n",
       "      <td>330.775190</td>\n",
       "      <td>NaN</td>\n",
       "      <td>NaN</td>\n",
       "      <td>NaN</td>\n",
       "    </tr>\n",
       "    <tr>\n",
       "      <th>1</th>\n",
       "      <td>1</td>\n",
       "      <td>3</td>\n",
       "      <td>96410</td>\n",
       "      <td>1004d93d</td>\n",
       "      <td>2018-07-06 23:09:52</td>\n",
       "      <td>Android</td>\n",
       "      <td>Buenos Aires</td>\n",
       "      <td>San Isidro</td>\n",
       "      <td>female</td>\n",
       "      <td>520.514551</td>\n",
       "      <td>565.763348</td>\n",
       "      <td>NaN</td>\n",
       "      <td>NaN</td>\n",
       "      <td>NaN</td>\n",
       "    </tr>\n",
       "    <tr>\n",
       "      <th>2</th>\n",
       "      <td>1</td>\n",
       "      <td>2</td>\n",
       "      <td>96400</td>\n",
       "      <td>1006ac06</td>\n",
       "      <td>2018-07-05 23:03:47</td>\n",
       "      <td>Android</td>\n",
       "      <td>Cordoba</td>\n",
       "      <td>Córdoba</td>\n",
       "      <td>male</td>\n",
       "      <td>1330.167700</td>\n",
       "      <td>30.000000</td>\n",
       "      <td>0.0</td>\n",
       "      <td>b</td>\n",
       "      <td>1.0</td>\n",
       "    </tr>\n",
       "    <tr>\n",
       "      <th>3</th>\n",
       "      <td>1</td>\n",
       "      <td>5</td>\n",
       "      <td>95729</td>\n",
       "      <td>100bc465</td>\n",
       "      <td>2018-07-07 17:02:46</td>\n",
       "      <td>Android</td>\n",
       "      <td>Formosa</td>\n",
       "      <td>Formosa</td>\n",
       "      <td>female</td>\n",
       "      <td>555.171059</td>\n",
       "      <td>99.929049</td>\n",
       "      <td>NaN</td>\n",
       "      <td>NaN</td>\n",
       "      <td>NaN</td>\n",
       "    </tr>\n",
       "    <tr>\n",
       "      <th>4</th>\n",
       "      <td>1</td>\n",
       "      <td>4</td>\n",
       "      <td>95420</td>\n",
       "      <td>100bcd07</td>\n",
       "      <td>2018-06-30 3:21:43</td>\n",
       "      <td>Android</td>\n",
       "      <td>Buenos Aires</td>\n",
       "      <td>Lanus</td>\n",
       "      <td>male</td>\n",
       "      <td>1534.166310</td>\n",
       "      <td>371.433155</td>\n",
       "      <td>NaN</td>\n",
       "      <td>NaN</td>\n",
       "      <td>NaN</td>\n",
       "    </tr>\n",
       "  </tbody>\n",
       "</table>\n",
       "</div>"
      ],
      "text/plain": [
       "   mes  nro_cliente  Plan_mes   user_id         install_time platform  \\\n",
       "0    1            1     95729  10045a3c   2018-07-03 0:02:10  Android   \n",
       "1    1            3     96410  1004d93d  2018-07-06 23:09:52  Android   \n",
       "2    1            2     96400  1006ac06  2018-07-05 23:03:47  Android   \n",
       "3    1            5     95729  100bc465  2018-07-07 17:02:46  Android   \n",
       "4    1            4     95420  100bcd07   2018-06-30 3:21:43  Android   \n",
       "\n",
       "  country_region        city  gender     sum_fact  sum_duracion  \\\n",
       "0       Santa Fe  Avellaneda    male   645.007199    330.775190   \n",
       "1   Buenos Aires  San Isidro  female   520.514551    565.763348   \n",
       "2        Cordoba     Córdoba    male  1330.167700     30.000000   \n",
       "3        Formosa     Formosa  female   555.171059     99.929049   \n",
       "4   Buenos Aires       Lanus    male  1534.166310    371.433155   \n",
       "\n",
       "   target_churn_indicator range_group  n_previous_registers  \n",
       "0                     NaN         NaN                   NaN  \n",
       "1                     NaN         NaN                   NaN  \n",
       "2                     0.0           b                   1.0  \n",
       "3                     NaN         NaN                   NaN  \n",
       "4                     NaN         NaN                   NaN  "
      ]
     },
     "execution_count": 19,
     "metadata": {},
     "output_type": "execute_result"
    }
   ],
   "source": [
    "df = df.merge(right=segments, on=\"user_id\", how=\"left\")\n",
    "df.head()"
   ]
  },
  {
   "cell_type": "code",
   "execution_count": 20,
   "metadata": {},
   "outputs": [
    {
     "data": {
      "text/plain": [
       "True"
      ]
     },
     "execution_count": 20,
     "metadata": {},
     "output_type": "execute_result"
    }
   ],
   "source": [
    "# Se verifica que la cantidad de filas del dataframe df sea igual a la cantidad de clientes en clients_cdp\n",
    "df.shape[0] == clients_cdp.shape[0]"
   ]
  },
  {
   "cell_type": "code",
   "execution_count": 21,
   "metadata": {},
   "outputs": [
    {
     "data": {
      "text/plain": [
       "mes                           0\n",
       "nro_cliente                   0\n",
       "Plan_mes                      0\n",
       "user_id                       0\n",
       "install_time                  0\n",
       "platform                      0\n",
       "country_region                0\n",
       "city                          0\n",
       "gender                        0\n",
       "sum_fact                      0\n",
       "sum_duracion                  0\n",
       "target_churn_indicator    30100\n",
       "range_group               30100\n",
       "n_previous_registers      30100\n",
       "dtype: int64"
      ]
     },
     "execution_count": 21,
     "metadata": {},
     "output_type": "execute_result"
    }
   ],
   "source": [
    "df.isna().sum()"
   ]
  },
  {
   "cell_type": "markdown",
   "metadata": {},
   "source": [
    "Se asume a continuación que si el cliente no está en la tabla de segmentos es porque NUNCA ha hecho parte de las campañas.\n",
    "\n",
    "En este sentido, se asume que *target_churn_indicator = 0* y *n_previous_registers = 0*; *range_group* no se puede identificar."
   ]
  },
  {
   "cell_type": "code",
   "execution_count": 22,
   "metadata": {},
   "outputs": [],
   "source": [
    "df.fillna({\"target_churn_indicator\": 0}, inplace=True)\n",
    "df.fillna({\"n_previous_registers\": 0}, inplace=True)"
   ]
  },
  {
   "cell_type": "code",
   "execution_count": 23,
   "metadata": {},
   "outputs": [
    {
     "name": "stdout",
     "output_type": "stream",
     "text": [
      "<class 'pandas.core.frame.DataFrame'>\n",
      "RangeIndex: 32618 entries, 0 to 32617\n",
      "Data columns (total 14 columns):\n",
      " #   Column                  Non-Null Count  Dtype  \n",
      "---  ------                  --------------  -----  \n",
      " 0   mes                     32618 non-null  int64  \n",
      " 1   nro_cliente             32618 non-null  int64  \n",
      " 2   Plan_mes                32618 non-null  int64  \n",
      " 3   user_id                 32618 non-null  object \n",
      " 4   install_time            32618 non-null  object \n",
      " 5   platform                32618 non-null  object \n",
      " 6   country_region          32618 non-null  object \n",
      " 7   city                    32618 non-null  object \n",
      " 8   gender                  32618 non-null  object \n",
      " 9   sum_fact                32618 non-null  float64\n",
      " 10  sum_duracion            32618 non-null  float64\n",
      " 11  target_churn_indicator  32618 non-null  float64\n",
      " 12  range_group             2518 non-null   object \n",
      " 13  n_previous_registers    32618 non-null  float64\n",
      "dtypes: float64(4), int64(3), object(7)\n",
      "memory usage: 3.5+ MB\n"
     ]
    }
   ],
   "source": [
    "# Resumen genérico del dataframe\n",
    "df.info()"
   ]
  },
  {
   "cell_type": "code",
   "execution_count": 24,
   "metadata": {},
   "outputs": [
    {
     "data": {
      "text/plain": [
       "mes                         int64\n",
       "nro_cliente                 int64\n",
       "Plan_mes                    int64\n",
       "user_id                    object\n",
       "install_time               object\n",
       "platform                   object\n",
       "country_region             object\n",
       "city                       object\n",
       "gender                     object\n",
       "sum_fact                  float64\n",
       "sum_duracion              float64\n",
       "target_churn_indicator    float64\n",
       "range_group                object\n",
       "n_previous_registers      float64\n",
       "dtype: object"
      ]
     },
     "execution_count": 24,
     "metadata": {},
     "output_type": "execute_result"
    }
   ],
   "source": [
    "df.dtypes"
   ]
  },
  {
   "cell_type": "code",
   "execution_count": 25,
   "metadata": {},
   "outputs": [],
   "source": [
    "# Se cambian los tipos de datos de algunas variables\n",
    "df[\"install_time\"] = pd.to_datetime(df[\"install_time\"])\n",
    "df[\"nro_cliente\"] = df[\"nro_cliente\"].astype(\"category\")\n",
    "df[\"mes\"] = df[\"mes\"].astype(\"category\")\n",
    "df[\"Plan_mes\"] = df[\"Plan_mes\"].astype(\"category\")\n",
    "df[\"target_churn_indicator\"] = df[\"target_churn_indicator\"].astype('int64')\n",
    "df[\"n_previous_registers\"] = df[\"n_previous_registers\"].astype('int64')"
   ]
  },
  {
   "cell_type": "code",
   "execution_count": 26,
   "metadata": {},
   "outputs": [],
   "source": [
    "# Las variables con tipo de datos object se convierten a categóricas\n",
    "df = df.astype({col: 'category' for col in df.select_dtypes(include='object').columns})"
   ]
  },
  {
   "cell_type": "markdown",
   "metadata": {},
   "source": [
    "### Pregunta 1: ¿cuántos clientes tuvieron al menos un cambio de plan?"
   ]
  },
  {
   "cell_type": "code",
   "execution_count": 27,
   "metadata": {},
   "outputs": [],
   "source": [
    "# Se agrupa la información según la pregunta\n",
    "number_plans_per_client = df.groupby([\"nro_cliente\"], as_index=False)[\"Plan_mes\"].nunique()\n",
    "number_plans_per_client = number_plans_per_client.rename(columns={\"Plan_mes\": \"num_planes\"})"
   ]
  },
  {
   "cell_type": "code",
   "execution_count": 28,
   "metadata": {},
   "outputs": [
    {
     "data": {
      "text/html": [
       "<div>\n",
       "<style scoped>\n",
       "    .dataframe tbody tr th:only-of-type {\n",
       "        vertical-align: middle;\n",
       "    }\n",
       "\n",
       "    .dataframe tbody tr th {\n",
       "        vertical-align: top;\n",
       "    }\n",
       "\n",
       "    .dataframe thead th {\n",
       "        text-align: right;\n",
       "    }\n",
       "</style>\n",
       "<table border=\"1\" class=\"dataframe\">\n",
       "  <thead>\n",
       "    <tr style=\"text-align: right;\">\n",
       "      <th></th>\n",
       "      <th>nro_cliente</th>\n",
       "      <th>num_planes</th>\n",
       "    </tr>\n",
       "  </thead>\n",
       "  <tbody>\n",
       "    <tr>\n",
       "      <th>0</th>\n",
       "      <td>1</td>\n",
       "      <td>2</td>\n",
       "    </tr>\n",
       "    <tr>\n",
       "      <th>3</th>\n",
       "      <td>4</td>\n",
       "      <td>2</td>\n",
       "    </tr>\n",
       "    <tr>\n",
       "      <th>4</th>\n",
       "      <td>5</td>\n",
       "      <td>2</td>\n",
       "    </tr>\n",
       "    <tr>\n",
       "      <th>5</th>\n",
       "      <td>6</td>\n",
       "      <td>2</td>\n",
       "    </tr>\n",
       "    <tr>\n",
       "      <th>7</th>\n",
       "      <td>8</td>\n",
       "      <td>2</td>\n",
       "    </tr>\n",
       "    <tr>\n",
       "      <th>...</th>\n",
       "      <td>...</td>\n",
       "      <td>...</td>\n",
       "    </tr>\n",
       "    <tr>\n",
       "      <th>10859</th>\n",
       "      <td>10860</td>\n",
       "      <td>2</td>\n",
       "    </tr>\n",
       "    <tr>\n",
       "      <th>10860</th>\n",
       "      <td>10861</td>\n",
       "      <td>2</td>\n",
       "    </tr>\n",
       "    <tr>\n",
       "      <th>10863</th>\n",
       "      <td>10864</td>\n",
       "      <td>2</td>\n",
       "    </tr>\n",
       "    <tr>\n",
       "      <th>10894</th>\n",
       "      <td>10895</td>\n",
       "      <td>2</td>\n",
       "    </tr>\n",
       "    <tr>\n",
       "      <th>10898</th>\n",
       "      <td>10899</td>\n",
       "      <td>2</td>\n",
       "    </tr>\n",
       "  </tbody>\n",
       "</table>\n",
       "<p>5847 rows × 2 columns</p>\n",
       "</div>"
      ],
      "text/plain": [
       "      nro_cliente  num_planes\n",
       "0               1           2\n",
       "3               4           2\n",
       "4               5           2\n",
       "5               6           2\n",
       "7               8           2\n",
       "...           ...         ...\n",
       "10859       10860           2\n",
       "10860       10861           2\n",
       "10863       10864           2\n",
       "10894       10895           2\n",
       "10898       10899           2\n",
       "\n",
       "[5847 rows x 2 columns]"
      ]
     },
     "execution_count": 28,
     "metadata": {},
     "output_type": "execute_result"
    }
   ],
   "source": [
    "# Muestra de clientes específicos que tienen más de un plan\n",
    "number_plans_per_client[number_plans_per_client[\"num_planes\"]>1]"
   ]
  },
  {
   "cell_type": "code",
   "execution_count": 29,
   "metadata": {},
   "outputs": [
    {
     "data": {
      "text/plain": [
       "5847"
      ]
     },
     "execution_count": 29,
     "metadata": {},
     "output_type": "execute_result"
    }
   ],
   "source": [
    "# Número total de clientes únicos que tienen más de un plan\n",
    "number_plans_per_client[number_plans_per_client[\"num_planes\"]>1].shape[0]"
   ]
  },
  {
   "cell_type": "code",
   "execution_count": 30,
   "metadata": {},
   "outputs": [
    {
     "data": {
      "text/html": [
       "<div>\n",
       "<style scoped>\n",
       "    .dataframe tbody tr th:only-of-type {\n",
       "        vertical-align: middle;\n",
       "    }\n",
       "\n",
       "    .dataframe tbody tr th {\n",
       "        vertical-align: top;\n",
       "    }\n",
       "\n",
       "    .dataframe thead th {\n",
       "        text-align: right;\n",
       "    }\n",
       "</style>\n",
       "<table border=\"1\" class=\"dataframe\">\n",
       "  <thead>\n",
       "    <tr style=\"text-align: right;\">\n",
       "      <th></th>\n",
       "      <th>nro_cliente</th>\n",
       "      <th>Plan_mes</th>\n",
       "    </tr>\n",
       "  </thead>\n",
       "  <tbody>\n",
       "    <tr>\n",
       "      <th>13277</th>\n",
       "      <td>10861</td>\n",
       "      <td>96420</td>\n",
       "    </tr>\n",
       "    <tr>\n",
       "      <th>32578</th>\n",
       "      <td>10861</td>\n",
       "      <td>96916</td>\n",
       "    </tr>\n",
       "  </tbody>\n",
       "</table>\n",
       "</div>"
      ],
      "text/plain": [
       "      nro_cliente Plan_mes\n",
       "13277       10861    96420\n",
       "32578       10861    96916"
      ]
     },
     "execution_count": 30,
     "metadata": {},
     "output_type": "execute_result"
    }
   ],
   "source": [
    "# Ejemplo 1 de cliente que cambió de plan al menos una vez en el trimestre\n",
    "df.loc[df[\"nro_cliente\"]==10861, [\"nro_cliente\", \"Plan_mes\"]]"
   ]
  },
  {
   "cell_type": "code",
   "execution_count": 31,
   "metadata": {},
   "outputs": [
    {
     "data": {
      "text/html": [
       "<div>\n",
       "<style scoped>\n",
       "    .dataframe tbody tr th:only-of-type {\n",
       "        vertical-align: middle;\n",
       "    }\n",
       "\n",
       "    .dataframe tbody tr th {\n",
       "        vertical-align: top;\n",
       "    }\n",
       "\n",
       "    .dataframe thead th {\n",
       "        text-align: right;\n",
       "    }\n",
       "</style>\n",
       "<table border=\"1\" class=\"dataframe\">\n",
       "  <thead>\n",
       "    <tr style=\"text-align: right;\">\n",
       "      <th></th>\n",
       "      <th>nro_cliente</th>\n",
       "      <th>Plan_mes</th>\n",
       "    </tr>\n",
       "  </thead>\n",
       "  <tbody>\n",
       "    <tr>\n",
       "      <th>6</th>\n",
       "      <td>8</td>\n",
       "      <td>94497</td>\n",
       "    </tr>\n",
       "    <tr>\n",
       "      <th>13263</th>\n",
       "      <td>8</td>\n",
       "      <td>97120</td>\n",
       "    </tr>\n",
       "    <tr>\n",
       "      <th>21725</th>\n",
       "      <td>8</td>\n",
       "      <td>97120</td>\n",
       "    </tr>\n",
       "  </tbody>\n",
       "</table>\n",
       "</div>"
      ],
      "text/plain": [
       "      nro_cliente Plan_mes\n",
       "6               8    94497\n",
       "13263           8    97120\n",
       "21725           8    97120"
      ]
     },
     "execution_count": 31,
     "metadata": {},
     "output_type": "execute_result"
    }
   ],
   "source": [
    "# Ejemplo 2 de cliente que cambió de plan al menos una vez en el trimestre\n",
    "df.loc[df[\"nro_cliente\"]==8, [\"nro_cliente\", \"Plan_mes\"]]"
   ]
  },
  {
   "cell_type": "markdown",
   "metadata": {},
   "source": [
    "#### **Conclusión**\n",
    "\n",
    "Del total de clientes, hay 5847 que cambiaron de plan durante el trimestre."
   ]
  },
  {
   "cell_type": "markdown",
   "metadata": {},
   "source": [
    "### Pregunta 2: ¿existe alguna relación entre country_region y los cambios de planes en el trimestre?"
   ]
  },
  {
   "cell_type": "code",
   "execution_count": 32,
   "metadata": {},
   "outputs": [],
   "source": [
    "# En un nuevo dataframe extraigo únicamente las columnas que necesito\n",
    "clients_vs_regions = df.loc[:, [\"nro_cliente\", \"country_region\"]].drop_duplicates().reset_index(drop=True)"
   ]
  },
  {
   "cell_type": "code",
   "execution_count": 33,
   "metadata": {},
   "outputs": [],
   "source": [
    "# Unión de este nuevo dataframe con el de la pregunta 1 (number_plans_per_client)\n",
    "df_q2 = pd.merge(left=clients_vs_regions, right=number_plans_per_client, on=\"nro_cliente\", how=\"inner\")"
   ]
  },
  {
   "cell_type": "code",
   "execution_count": 34,
   "metadata": {},
   "outputs": [],
   "source": [
    "# Se crea una variable que indique si el cliente cambió de plan (el número de planes no es relevante para esta pregunta)\n",
    "df_q2[\"cambio_plan\"] = df_q2[\"num_planes\"].apply(lambda x: 1 if x > 1 else 0)"
   ]
  },
  {
   "cell_type": "code",
   "execution_count": 35,
   "metadata": {},
   "outputs": [
    {
     "data": {
      "text/plain": [
       "country_region\n",
       "Buenos Aires           3658\n",
       "Buenos Aires F.D.      1690\n",
       "Cordoba                1114\n",
       "Entre Rios              675\n",
       "Santa Fe                507\n",
       "Tucuman                 422\n",
       "Salta                   399\n",
       "Mendoza                 384\n",
       "Chaco                   211\n",
       "Misiones                209\n",
       "Corrientes              184\n",
       "Neuquen                 155\n",
       "San Luis                148\n",
       "Formosa                 133\n",
       "La Rioja                131\n",
       "Chubut                  122\n",
       "San Juan                117\n",
       "Santiago del Estero     114\n",
       "Jujuy                   113\n",
       "Rio Negro               105\n",
       "La Pampa                 94\n",
       "Catamarca                86\n",
       "Santa Cruz               66\n",
       "Tierra del Fuego         47\n",
       "Entre Ríos Province       8\n",
       "Santa Fe Province         2\n",
       "Cordoba Province          2\n",
       "Chaco Province            1\n",
       "Neuquén Province          1\n",
       "Río Negro Province        1\n",
       "Tucumán Province          1\n",
       "Name: count, dtype: int64"
      ]
     },
     "execution_count": 35,
     "metadata": {},
     "output_type": "execute_result"
    }
   ],
   "source": [
    "# Muestra general de todas las regiones disponibles -> Es necesario recategorizar para encontrar alguna conclusión general\n",
    "df_q2[\"country_region\"].value_counts(dropna=False)"
   ]
  },
  {
   "cell_type": "code",
   "execution_count": 36,
   "metadata": {},
   "outputs": [
    {
     "data": {
      "text/plain": [
       "np.float64(0.8118348623853211)"
      ]
     },
     "execution_count": 36,
     "metadata": {},
     "output_type": "execute_result"
    }
   ],
   "source": [
    "# Se evidencia que más del 80% de los clientes se ubican en 8 regiones (Pareto)\n",
    "df_q2[\"country_region\"].value_counts(normalize=True)[0:8].sum()"
   ]
  },
  {
   "cell_type": "code",
   "execution_count": 37,
   "metadata": {},
   "outputs": [],
   "source": [
    "# Se almacenan las regiones más usuales en una lista\n",
    "list_main_regions = df_q2[\"country_region\"].value_counts(normalize=True)[0:8].index.tolist()"
   ]
  },
  {
   "cell_type": "code",
   "execution_count": 38,
   "metadata": {},
   "outputs": [
    {
     "data": {
      "text/plain": [
       "['Buenos Aires',\n",
       " 'Buenos Aires F.D.',\n",
       " 'Cordoba',\n",
       " 'Entre Rios',\n",
       " 'Santa Fe',\n",
       " 'Tucuman',\n",
       " 'Salta',\n",
       " 'Mendoza']"
      ]
     },
     "execution_count": 38,
     "metadata": {},
     "output_type": "execute_result"
    }
   ],
   "source": [
    "# Muestra de tales regiones\n",
    "list_main_regions"
   ]
  },
  {
   "cell_type": "code",
   "execution_count": 39,
   "metadata": {},
   "outputs": [],
   "source": [
    "# Recategorización de la región asociada a los clientes\n",
    "df_q2[\"country_region_recat\"] = df_q2[\"country_region\"].apply(lambda x: x if x in list_main_regions else \"Otra\")"
   ]
  },
  {
   "cell_type": "code",
   "execution_count": 40,
   "metadata": {},
   "outputs": [
    {
     "data": {
      "text/html": [
       "<div>\n",
       "<style scoped>\n",
       "    .dataframe tbody tr th:only-of-type {\n",
       "        vertical-align: middle;\n",
       "    }\n",
       "\n",
       "    .dataframe tbody tr th {\n",
       "        vertical-align: top;\n",
       "    }\n",
       "\n",
       "    .dataframe thead th {\n",
       "        text-align: right;\n",
       "    }\n",
       "</style>\n",
       "<table border=\"1\" class=\"dataframe\">\n",
       "  <thead>\n",
       "    <tr style=\"text-align: right;\">\n",
       "      <th>cambio_plan</th>\n",
       "      <th>0</th>\n",
       "      <th>1</th>\n",
       "    </tr>\n",
       "    <tr>\n",
       "      <th>country_region_recat</th>\n",
       "      <th></th>\n",
       "      <th></th>\n",
       "    </tr>\n",
       "  </thead>\n",
       "  <tbody>\n",
       "    <tr>\n",
       "      <th>Mendoza</th>\n",
       "      <td>0.406250</td>\n",
       "      <td>0.593750</td>\n",
       "    </tr>\n",
       "    <tr>\n",
       "      <th>Buenos Aires F.D.</th>\n",
       "      <td>0.454438</td>\n",
       "      <td>0.545562</td>\n",
       "    </tr>\n",
       "    <tr>\n",
       "      <th>Otra</th>\n",
       "      <td>0.457825</td>\n",
       "      <td>0.542175</td>\n",
       "    </tr>\n",
       "    <tr>\n",
       "      <th>Salta</th>\n",
       "      <td>0.461153</td>\n",
       "      <td>0.538847</td>\n",
       "    </tr>\n",
       "    <tr>\n",
       "      <th>Buenos Aires</th>\n",
       "      <td>0.465555</td>\n",
       "      <td>0.534445</td>\n",
       "    </tr>\n",
       "    <tr>\n",
       "      <th>Santa Fe</th>\n",
       "      <td>0.469428</td>\n",
       "      <td>0.530572</td>\n",
       "    </tr>\n",
       "    <tr>\n",
       "      <th>Cordoba</th>\n",
       "      <td>0.477558</td>\n",
       "      <td>0.522442</td>\n",
       "    </tr>\n",
       "    <tr>\n",
       "      <th>Entre Rios</th>\n",
       "      <td>0.481481</td>\n",
       "      <td>0.518519</td>\n",
       "    </tr>\n",
       "    <tr>\n",
       "      <th>Tucuman</th>\n",
       "      <td>0.492891</td>\n",
       "      <td>0.507109</td>\n",
       "    </tr>\n",
       "  </tbody>\n",
       "</table>\n",
       "</div>"
      ],
      "text/plain": [
       "cambio_plan                  0         1\n",
       "country_region_recat                    \n",
       "Mendoza               0.406250  0.593750\n",
       "Buenos Aires F.D.     0.454438  0.545562\n",
       "Otra                  0.457825  0.542175\n",
       "Salta                 0.461153  0.538847\n",
       "Buenos Aires          0.465555  0.534445\n",
       "Santa Fe              0.469428  0.530572\n",
       "Cordoba               0.477558  0.522442\n",
       "Entre Rios            0.481481  0.518519\n",
       "Tucuman               0.492891  0.507109"
      ]
     },
     "execution_count": 40,
     "metadata": {},
     "output_type": "execute_result"
    }
   ],
   "source": [
    "# Tabla cruzada entre la región recategorizada y el cambio de plan (0: no cambió de plan; 1: cambió de plan), con proporciones por filas\n",
    "crosstab_q2 = pd.crosstab(df_q2[\"country_region_recat\"], df_q2[\"cambio_plan\"], normalize=\"index\")\n",
    "crosstab_q2 = crosstab_q2.sort_values(by=[1], ascending=False)\n",
    "crosstab_q2"
   ]
  },
  {
   "cell_type": "code",
   "execution_count": 41,
   "metadata": {},
   "outputs": [
    {
     "data": {
      "image/png": "[encoded data removed]",
      "text/plain": [
       "<Figure size 1000x600 with 1 Axes>"
      ]
     },
     "metadata": {},
     "output_type": "display_data"
    }
   ],
   "source": [
    "# Plot con barras apiladas para comparar visualmente los resultados de la tabla cruzada anterior\n",
    "fig, ax = plt.subplots(figsize=(10, 6))\n",
    "ax.bar(crosstab_q2.index, crosstab_q2[0], label=0, color=\"steelblue\")\n",
    "ax.bar(crosstab_q2.index, crosstab_q2[1], bottom=crosstab_q2[0], label=1, color=\"orange\")\n",
    "\n",
    "plt.xticks(rotation=45, ha=\"right\")\n",
    "plt.ylabel(\"Proporción\")\n",
    "plt.title(\"Proporción de clientes con cambio de plan por región\")\n",
    "plt.legend(title=\"Cambio de plan\")\n",
    "plt.grid(axis=\"y\", linestyle=\"--\", alpha=0.7)\n",
    "\n",
    "plt.show()"
   ]
  },
  {
   "cell_type": "code",
   "execution_count": 42,
   "metadata": {},
   "outputs": [
    {
     "data": {
      "text/plain": [
       "np.float64(0.5364220183486239)"
      ]
     },
     "execution_count": 42,
     "metadata": {},
     "output_type": "execute_result"
    }
   ],
   "source": [
    "# Proporción media de clientes que han cambiado de plan, sin discriminar por región\n",
    "df_q2[\"cambio_plan\"].mean()"
   ]
  },
  {
   "cell_type": "markdown",
   "metadata": {},
   "source": [
    "#### **Conclusión**\n",
    "\n",
    "A nivel descriptivo y considerando las principales regiones de Argentina, es posible decir que Mendoza presenta la mayor proporción de clientes con cambio de plan (0.59) que, sin embargo, no parece diferir en gran medida de la proporción media de clientes en todas las regiones que lo hicieron (0.54). El resto de las regiones principales se mantienen más o menos constantes en cuanto a dicha proporción, oscilando en un mínimo de 0.51 para Tucuman y un máximo de 0.55 para Buenos Aires F.D.\n",
    "\n",
    "Por lo tanto, contestando a la pregunta inicial, a nivel descriptivo no parece existir una relación entre la variable *country_region* y los cambios de planes en el trimestre, exceptuando tal vez el caso puntual de la región de Mendoza.\n",
    "\n",
    "Más adelante se revisará si esta región específica (y también el resto de regiones), tienen alguna relación significativa con los clientes que cambiaron de plan."
   ]
  },
  {
   "cell_type": "markdown",
   "metadata": {},
   "source": [
    "### Pregunta 3: ¿cuáles serían las tres principales características de los clientes que realizan cambios de plan?\n",
    "\n",
    "#### Usando estadísticas y gráficos descriptivos"
   ]
  },
  {
   "cell_type": "code",
   "execution_count": 43,
   "metadata": {},
   "outputs": [],
   "source": [
    "# Se crea un nuevo dataframe para esta pregunta específica eliminando variables que hacen ruido\n",
    "# Se elimina el mes porque se revisará en general a los clientes, no desagregados según el periodo\n",
    "# Se eliminar el rango de edad (range_group) por la alta cantidad de valores faltantes sin posibilidad de imputar adecuadamente\n",
    "df_q3 = df.drop(columns=[\"mes\", \"user_id\", \"Plan_mes\", \"range_group\"])"
   ]
  },
  {
   "cell_type": "code",
   "execution_count": 44,
   "metadata": {},
   "outputs": [],
   "source": [
    "# Se eliminan duplicados\n",
    "df_q3 = df_q3.drop_duplicates()"
   ]
  },
  {
   "cell_type": "code",
   "execution_count": 45,
   "metadata": {},
   "outputs": [],
   "source": [
    "# Nuevamente se crea la variable cambio_plan\n",
    "df_q3 = df_q3.merge(right=number_plans_per_client, on=\"nro_cliente\", how=\"inner\")\n",
    "df_q3[\"cambio_plan\"] = df_q3[\"num_planes\"].apply(lambda x: 1 if x > 1 else 0)"
   ]
  },
  {
   "cell_type": "code",
   "execution_count": 46,
   "metadata": {},
   "outputs": [
    {
     "data": {
      "text/plain": [
       "count                            10900\n",
       "mean     2018-07-04 01:33:35.075229440\n",
       "min                2018-06-30 00:01:41\n",
       "25%      2018-07-01 23:58:54.750000128\n",
       "50%         2018-07-04 00:02:49.500000\n",
       "75%         2018-07-06 01:23:18.500000\n",
       "max                2018-07-07 23:59:47\n",
       "Name: install_time, dtype: object"
      ]
     },
     "execution_count": 46,
     "metadata": {},
     "output_type": "execute_result"
    }
   ],
   "source": [
    "# Revisión de la variable install_time, que se decide eliminar debido a que el rango entre la fecha mín. y máx. es apenas de 8 días\n",
    "df_q3[\"install_time\"].describe()"
   ]
  },
  {
   "cell_type": "code",
   "execution_count": 47,
   "metadata": {},
   "outputs": [],
   "source": [
    "# Eliminación de estas columnas adicionales\n",
    "df_q3 = df_q3.drop(columns=[\"num_planes\", \"install_time\"])"
   ]
  },
  {
   "cell_type": "code",
   "execution_count": 48,
   "metadata": {},
   "outputs": [],
   "source": [
    "# Se establece el nro. del cliente como índice\n",
    "df_q3 = df_q3.set_index(\"nro_cliente\")"
   ]
  },
  {
   "cell_type": "code",
   "execution_count": 49,
   "metadata": {},
   "outputs": [],
   "source": [
    "# Recategorización de la región nuevamente\n",
    "df_q3[\"country_region_recat\"] = df_q3[\"country_region\"].apply(lambda x: x if x in list_main_regions else \"Otra\")"
   ]
  },
  {
   "cell_type": "code",
   "execution_count": 50,
   "metadata": {},
   "outputs": [
    {
     "data": {
      "text/plain": [
       "city\n",
       "Buenos Aires             1516\n",
       "Córdoba                   731\n",
       "Villa Angelica            447\n",
       "San Miguel de Tucumán     370\n",
       "Salta                     354\n",
       "                         ... \n",
       "Villa Iris                  1\n",
       "Villa La Angostura          1\n",
       "Villa Ocampo                1\n",
       "Villa Reduccion             1\n",
       "Acassuso                    1\n",
       "Name: count, Length: 670, dtype: int64"
      ]
     },
     "execution_count": 50,
     "metadata": {},
     "output_type": "execute_result"
    }
   ],
   "source": [
    "# Revisión de la cantidad de categorías presentes en la columna city\n",
    "df_q3[\"city\"].value_counts()"
   ]
  },
  {
   "cell_type": "code",
   "execution_count": 51,
   "metadata": {},
   "outputs": [],
   "source": [
    "# Debido al gran número de ciudades presentes, tomo únicamente aquellas que representen al menos al 1.5% de los clientes\n",
    "city_counts = df_q3[\"city\"].value_counts(normalize=True)\n",
    "cities_above_threshold = city_counts[city_counts > 0.015].index.tolist()"
   ]
  },
  {
   "cell_type": "code",
   "execution_count": 52,
   "metadata": {},
   "outputs": [],
   "source": [
    "# Se recategoriza la variable city\n",
    "df_q3[\"city_recat\"] = df_q3[\"city\"].apply(lambda x: x if x in cities_above_threshold else \"Otra\")"
   ]
  },
  {
   "cell_type": "code",
   "execution_count": 53,
   "metadata": {},
   "outputs": [
    {
     "data": {
      "text/plain": [
       "city_recat\n",
       "Otra                     0.669083\n",
       "Buenos Aires             0.139083\n",
       "Córdoba                  0.067064\n",
       "Villa Angelica           0.041009\n",
       "San Miguel de Tucumán    0.033945\n",
       "Salta                    0.032477\n",
       "Mendoza                  0.017339\n",
       "Name: proportion, dtype: float64"
      ]
     },
     "execution_count": 53,
     "metadata": {},
     "output_type": "execute_result"
    }
   ],
   "source": [
    "# Vista en proporciones de la variable city_recat\n",
    "df_q3[\"city_recat\"].value_counts(normalize=True)"
   ]
  },
  {
   "cell_type": "code",
   "execution_count": 54,
   "metadata": {},
   "outputs": [],
   "source": [
    "# Se eliminan de este nuevo dataframe las variables crudas / sin recategorizar\n",
    "df_q3 = df_q3.drop(columns=[\"city\", \"country_region\"])"
   ]
  },
  {
   "cell_type": "code",
   "execution_count": 55,
   "metadata": {},
   "outputs": [],
   "source": [
    "# Cambio en el tipo de estas variables\n",
    "df_q3[\"city_recat\"] = df_q3[\"city_recat\"].astype(\"category\")\n",
    "df_q3[\"country_region_recat\"] = df_q3[\"country_region_recat\"].astype(\"category\")"
   ]
  },
  {
   "cell_type": "code",
   "execution_count": 56,
   "metadata": {},
   "outputs": [],
   "source": [
    "# Se recategoriza la variable n_previous_registers, ya que hay muy pocos clientes que estuvieron 2 o más veces presentes en campañas de upgrade\n",
    "df_q3[\"n_previous_registers\"] = df_q3[\"n_previous_registers\"].apply(lambda x: '0' if x==0 else '1 o más')\n",
    "df_q3[\"n_previous_registers\"] = df_q3[\"n_previous_registers\"].astype(\"category\")"
   ]
  },
  {
   "cell_type": "code",
   "execution_count": 57,
   "metadata": {},
   "outputs": [],
   "source": [
    "# División de columnas según su tipo\n",
    "cat_int_cols = df_q3.drop(columns=[\"cambio_plan\"]).select_dtypes(include=['category', 'int64']).columns.tolist()\n",
    "float_cols = df_q3.drop(columns=[\"cambio_plan\"]).select_dtypes(include=['float64']).columns.tolist()"
   ]
  },
  {
   "cell_type": "code",
   "execution_count": 58,
   "metadata": {},
   "outputs": [
    {
     "data": {
      "image/png": "[encoded data removed]",
      "text/plain": [
       "<Figure size 640x480 with 1 Axes>"
      ]
     },
     "metadata": {},
     "output_type": "display_data"
    },
    {
     "data": {
      "image/png": "[encoded data removed]",
      "text/plain": [
       "<Figure size 640x480 with 1 Axes>"
      ]
     },
     "metadata": {},
     "output_type": "display_data"
    },
    {
     "data": {
      "image/png": "[encoded data removed]",
      "text/plain": [
       "<Figure size 640x480 with 1 Axes>"
      ]
     },
     "metadata": {},
     "output_type": "display_data"
    },
    {
     "data": {
      "image/png": "[encoded data removed]",
      "text/plain": [
       "<Figure size 640x480 with 1 Axes>"
      ]
     },
     "metadata": {},
     "output_type": "display_data"
    },
    {
     "data": {
      "image/png": "[encoded data removed]",
      "text/plain": [
       "<Figure size 640x480 with 1 Axes>"
      ]
     },
     "metadata": {},
     "output_type": "display_data"
    },
    {
     "data": {
      "image/png": "[encoded data removed]",
      "text/plain": [
       "<Figure size 640x480 with 1 Axes>"
      ]
     },
     "metadata": {},
     "output_type": "display_data"
    },
    {
     "data": {
      "image/png": "[encoded data removed]",
      "text/plain": [
       "<Figure size 640x480 with 1 Axes>"
      ]
     },
     "metadata": {},
     "output_type": "display_data"
    },
    {
     "data": {
      "image/png": "[encoded data removed]",
      "text/plain": [
       "<Figure size 640x480 with 1 Axes>"
      ]
     },
     "metadata": {},
     "output_type": "display_data"
    }
   ],
   "source": [
    "# Pieza de código para extraer gráficos descriptivos sobre la relación entre la variable cambio_plan y el resto\n",
    "for col in df_q3.columns:\n",
    "\n",
    "    if col != \"cambio_plan\":\n",
    "\n",
    "        if col in cat_int_cols:\n",
    "            prop_df = df_q3.groupby([col, \"cambio_plan\"]).size().unstack()\n",
    "            prop_df = prop_df.div(prop_df.sum(axis=1), axis=0)\n",
    "            sorted_index = prop_df[1].sort_values(ascending=False).index\n",
    "            prop_df = prop_df.loc[sorted_index]\n",
    "            prop_df.plot(kind=\"bar\", stacked=False, colormap=\"Blues\", edgecolor=\"black\")\n",
    "            \n",
    "            plt.xlabel(col, fontsize=10)\n",
    "            plt.ylabel(\"Proporción\", fontsize=10)\n",
    "            plt.title(f\"Proporción de {col} por cambio_plan\", fontsize=12, fontweight=\"bold\")\n",
    "            plt.legend(title=\"Cambio plan\", loc=\"upper right\", fontsize=10, title_fontsize=10)\n",
    "            \n",
    "        else:\n",
    "            sns.boxplot(x=df_q3[\"cambio_plan\"], y=df_q3[col], palette=\"Blues\", width=0.6, linewidth=1.2, showfliers=False)\n",
    "            \n",
    "            plt.xlabel(\"Cambio plan\", fontsize=10)\n",
    "            plt.ylabel(col, fontsize=10)\n",
    "            plt.title(f\"Distribución de {col} por cambio_plan\", fontsize=12, fontweight=\"bold\")\n",
    "\n",
    "        plt.xticks(rotation=45, fontsize=10)\n",
    "        plt.yticks(fontsize=10)\n",
    "        plt.grid(axis=\"y\", linestyle=\"--\", alpha=0.3)\n",
    "        plt.show()"
   ]
  },
  {
   "cell_type": "markdown",
   "metadata": {},
   "source": [
    "#### **Conclusión a partir de las gráficas**\n",
    "\n",
    "Las gráficas permiten concluir que la característica más importante que diferencia los clientes que cambiaron de plan vs. los que no lo hicieron es el total de facturación en $ durante todo el trimestre; es probable que dada la cantidad facturada, quisieran cambiar a un plan más económico.\n",
    "\n",
    "Por otro lado, los clientes de la ciudad y región de Mendoza son los que más cambios de planes han tenido; particularmente en la ciudad, más del 60% ha cambiado su plan en el último trimestre, mientras que en la región esta proporción llega casi al 60%.\n",
    "\n",
    "Finalmente, cabe resaltar que la proporción de clientes que cambia de plan y que además está en campañas de *churn* es un poco mayor a la proporción de clientes que no está en tales campañas (valor cercano a 0.6), hecho que podría estar relacionado con una efectividad en estos mecanismos, ya que es posible que estos clientes hayan intentado cancelar algún servicio pero con la campaña dirigida hayan decidido tomar algún otro."
   ]
  },
  {
   "cell_type": "markdown",
   "metadata": {},
   "source": [
    "### Pregunta 3: ¿cuáles serían las tres principales características de los clientes que realizan cambios de plan? \n",
    "#### Ahora usando una regresión logística"
   ]
  },
  {
   "cell_type": "code",
   "execution_count": 59,
   "metadata": {},
   "outputs": [
    {
     "data": {
      "text/plain": [
       "cambio_plan\n",
       "1    0.536422\n",
       "0    0.463578\n",
       "Name: proportion, dtype: float64"
      ]
     },
     "execution_count": 59,
     "metadata": {},
     "output_type": "execute_result"
    }
   ],
   "source": [
    "# Evidencia de que no existe un desbalance marcado en la variable independiente\n",
    "df_q3[\"cambio_plan\"].value_counts(normalize=True)"
   ]
  },
  {
   "cell_type": "code",
   "execution_count": 60,
   "metadata": {},
   "outputs": [],
   "source": [
    "# Definición de mis predictores y variable de respuesta\n",
    "X = df_q3.drop(columns=[\"cambio_plan\"])\n",
    "y = df_q3[\"cambio_plan\"]"
   ]
  },
  {
   "cell_type": "code",
   "execution_count": 61,
   "metadata": {},
   "outputs": [],
   "source": [
    "# Conversión de las variables categóricas a variables dummy\n",
    "X = pd.get_dummies(X, drop_first=True)"
   ]
  },
  {
   "cell_type": "code",
   "execution_count": 62,
   "metadata": {},
   "outputs": [],
   "source": [
    "# División de la data en entrenamiento y prueba\n",
    "X_train, X_test, y_train, y_test = train_test_split(X, y, test_size=0.2, random_state=42, stratify=y)"
   ]
  },
  {
   "cell_type": "code",
   "execution_count": 63,
   "metadata": {},
   "outputs": [],
   "source": [
    "# Establecimiento del estandarizados para las vairables numéricas\n",
    "scaler = StandardScaler()\n",
    "X_train[X_train.select_dtypes(include=['float64']).columns] = scaler.fit_transform(X_train.select_dtypes(include=['float64']))\n",
    "X_test[X_test.select_dtypes(include=['float64']).columns] = scaler.transform(X_test.select_dtypes(include=['float64']))"
   ]
  },
  {
   "cell_type": "code",
   "execution_count": 64,
   "metadata": {},
   "outputs": [
    {
     "data": {
      "text/html": [
       "<div>\n",
       "<style scoped>\n",
       "    .dataframe tbody tr th:only-of-type {\n",
       "        vertical-align: middle;\n",
       "    }\n",
       "\n",
       "    .dataframe tbody tr th {\n",
       "        vertical-align: top;\n",
       "    }\n",
       "\n",
       "    .dataframe thead th {\n",
       "        text-align: right;\n",
       "    }\n",
       "</style>\n",
       "<table border=\"1\" class=\"dataframe\">\n",
       "  <thead>\n",
       "    <tr style=\"text-align: right;\">\n",
       "      <th></th>\n",
       "      <th>sum_fact</th>\n",
       "      <th>sum_duracion</th>\n",
       "      <th>target_churn_indicator</th>\n",
       "      <th>platform_iOS</th>\n",
       "      <th>gender_male</th>\n",
       "      <th>gender_unknown</th>\n",
       "      <th>n_previous_registers_1 o más</th>\n",
       "      <th>country_region_recat_Buenos Aires F.D.</th>\n",
       "      <th>country_region_recat_Cordoba</th>\n",
       "      <th>country_region_recat_Entre Rios</th>\n",
       "      <th>...</th>\n",
       "      <th>country_region_recat_Otra</th>\n",
       "      <th>country_region_recat_Salta</th>\n",
       "      <th>country_region_recat_Santa Fe</th>\n",
       "      <th>country_region_recat_Tucuman</th>\n",
       "      <th>city_recat_Córdoba</th>\n",
       "      <th>city_recat_Mendoza</th>\n",
       "      <th>city_recat_Otra</th>\n",
       "      <th>city_recat_Salta</th>\n",
       "      <th>city_recat_San Miguel de Tucumán</th>\n",
       "      <th>city_recat_Villa Angelica</th>\n",
       "    </tr>\n",
       "    <tr>\n",
       "      <th>nro_cliente</th>\n",
       "      <th></th>\n",
       "      <th></th>\n",
       "      <th></th>\n",
       "      <th></th>\n",
       "      <th></th>\n",
       "      <th></th>\n",
       "      <th></th>\n",
       "      <th></th>\n",
       "      <th></th>\n",
       "      <th></th>\n",
       "      <th></th>\n",
       "      <th></th>\n",
       "      <th></th>\n",
       "      <th></th>\n",
       "      <th></th>\n",
       "      <th></th>\n",
       "      <th></th>\n",
       "      <th></th>\n",
       "      <th></th>\n",
       "      <th></th>\n",
       "      <th></th>\n",
       "    </tr>\n",
       "  </thead>\n",
       "  <tbody>\n",
       "    <tr>\n",
       "      <th>4863</th>\n",
       "      <td>-0.128051</td>\n",
       "      <td>-0.341513</td>\n",
       "      <td>0</td>\n",
       "      <td>False</td>\n",
       "      <td>False</td>\n",
       "      <td>False</td>\n",
       "      <td>False</td>\n",
       "      <td>False</td>\n",
       "      <td>False</td>\n",
       "      <td>False</td>\n",
       "      <td>...</td>\n",
       "      <td>False</td>\n",
       "      <td>False</td>\n",
       "      <td>False</td>\n",
       "      <td>False</td>\n",
       "      <td>False</td>\n",
       "      <td>False</td>\n",
       "      <td>True</td>\n",
       "      <td>False</td>\n",
       "      <td>False</td>\n",
       "      <td>False</td>\n",
       "    </tr>\n",
       "    <tr>\n",
       "      <th>10401</th>\n",
       "      <td>0.219772</td>\n",
       "      <td>0.079211</td>\n",
       "      <td>0</td>\n",
       "      <td>False</td>\n",
       "      <td>False</td>\n",
       "      <td>False</td>\n",
       "      <td>False</td>\n",
       "      <td>False</td>\n",
       "      <td>False</td>\n",
       "      <td>False</td>\n",
       "      <td>...</td>\n",
       "      <td>False</td>\n",
       "      <td>False</td>\n",
       "      <td>True</td>\n",
       "      <td>False</td>\n",
       "      <td>False</td>\n",
       "      <td>False</td>\n",
       "      <td>True</td>\n",
       "      <td>False</td>\n",
       "      <td>False</td>\n",
       "      <td>False</td>\n",
       "    </tr>\n",
       "    <tr>\n",
       "      <th>2507</th>\n",
       "      <td>-0.972194</td>\n",
       "      <td>0.567343</td>\n",
       "      <td>0</td>\n",
       "      <td>False</td>\n",
       "      <td>False</td>\n",
       "      <td>False</td>\n",
       "      <td>False</td>\n",
       "      <td>True</td>\n",
       "      <td>False</td>\n",
       "      <td>False</td>\n",
       "      <td>...</td>\n",
       "      <td>False</td>\n",
       "      <td>False</td>\n",
       "      <td>False</td>\n",
       "      <td>False</td>\n",
       "      <td>False</td>\n",
       "      <td>False</td>\n",
       "      <td>False</td>\n",
       "      <td>False</td>\n",
       "      <td>False</td>\n",
       "      <td>False</td>\n",
       "    </tr>\n",
       "  </tbody>\n",
       "</table>\n",
       "<p>3 rows × 21 columns</p>\n",
       "</div>"
      ],
      "text/plain": [
       "             sum_fact  sum_duracion  target_churn_indicator  platform_iOS  \\\n",
       "nro_cliente                                                                 \n",
       "4863        -0.128051     -0.341513                       0         False   \n",
       "10401        0.219772      0.079211                       0         False   \n",
       "2507        -0.972194      0.567343                       0         False   \n",
       "\n",
       "             gender_male  gender_unknown  n_previous_registers_1 o más  \\\n",
       "nro_cliente                                                              \n",
       "4863               False           False                         False   \n",
       "10401              False           False                         False   \n",
       "2507               False           False                         False   \n",
       "\n",
       "             country_region_recat_Buenos Aires F.D.  \\\n",
       "nro_cliente                                           \n",
       "4863                                          False   \n",
       "10401                                         False   \n",
       "2507                                           True   \n",
       "\n",
       "             country_region_recat_Cordoba  country_region_recat_Entre Rios  \\\n",
       "nro_cliente                                                                  \n",
       "4863                                False                            False   \n",
       "10401                               False                            False   \n",
       "2507                                False                            False   \n",
       "\n",
       "             ...  country_region_recat_Otra  country_region_recat_Salta  \\\n",
       "nro_cliente  ...                                                          \n",
       "4863         ...                      False                       False   \n",
       "10401        ...                      False                       False   \n",
       "2507         ...                      False                       False   \n",
       "\n",
       "             country_region_recat_Santa Fe  country_region_recat_Tucuman  \\\n",
       "nro_cliente                                                                \n",
       "4863                                 False                         False   \n",
       "10401                                 True                         False   \n",
       "2507                                 False                         False   \n",
       "\n",
       "             city_recat_Córdoba  city_recat_Mendoza  city_recat_Otra  \\\n",
       "nro_cliente                                                            \n",
       "4863                      False               False             True   \n",
       "10401                     False               False             True   \n",
       "2507                      False               False            False   \n",
       "\n",
       "             city_recat_Salta  city_recat_San Miguel de Tucumán  \\\n",
       "nro_cliente                                                       \n",
       "4863                    False                             False   \n",
       "10401                   False                             False   \n",
       "2507                    False                             False   \n",
       "\n",
       "             city_recat_Villa Angelica  \n",
       "nro_cliente                             \n",
       "4863                             False  \n",
       "10401                            False  \n",
       "2507                             False  \n",
       "\n",
       "[3 rows x 21 columns]"
      ]
     },
     "execution_count": 64,
     "metadata": {},
     "output_type": "execute_result"
    }
   ],
   "source": [
    "# Vista del dataframe de entrenamiento\n",
    "X_train.head(3)"
   ]
  },
  {
   "cell_type": "code",
   "execution_count": 65,
   "metadata": {},
   "outputs": [
    {
     "data": {
      "text/html": [
       "<style>#sk-container-id-1 {\n",
       "  /* Definition of color scheme common for light and dark mode */\n",
       "  --sklearn-color-text: #000;\n",
       "  --sklearn-color-text-muted: #666;\n",
       "  --sklearn-color-line: gray;\n",
       "  /* Definition of color scheme for unfitted estimators */\n",
       "  --sklearn-color-unfitted-level-0: #fff5e6;\n",
       "  --sklearn-color-unfitted-level-1: #f6e4d2;\n",
       "  --sklearn-color-unfitted-level-2: #ffe0b3;\n",
       "  --sklearn-color-unfitted-level-3: chocolate;\n",
       "  /* Definition of color scheme for fitted estimators */\n",
       "  --sklearn-color-fitted-level-0: #f0f8ff;\n",
       "  --sklearn-color-fitted-level-1: #d4ebff;\n",
       "  --sklearn-color-fitted-level-2: #b3dbfd;\n",
       "  --sklearn-color-fitted-level-3: cornflowerblue;\n",
       "\n",
       "  /* Specific color for light theme */\n",
       "  --sklearn-color-text-on-default-background: var(--sg-text-color, var(--theme-code-foreground, var(--jp-content-font-color1, black)));\n",
       "  --sklearn-color-background: var(--sg-background-color, var(--theme-background, var(--jp-layout-color0, white)));\n",
       "  --sklearn-color-border-box: var(--sg-text-color, var(--theme-code-foreground, var(--jp-content-font-color1, black)));\n",
       "  --sklearn-color-icon: #696969;\n",
       "\n",
       "  @media (prefers-color-scheme: dark) {\n",
       "    /* Redefinition of color scheme for dark theme */\n",
       "    --sklearn-color-text-on-default-background: var(--sg-text-color, var(--theme-code-foreground, var(--jp-content-font-color1, white)));\n",
       "    --sklearn-color-background: var(--sg-background-color, var(--theme-background, var(--jp-layout-color0, #111)));\n",
       "    --sklearn-color-border-box: var(--sg-text-color, var(--theme-code-foreground, var(--jp-content-font-color1, white)));\n",
       "    --sklearn-color-icon: #878787;\n",
       "  }\n",
       "}\n",
       "\n",
       "#sk-container-id-1 {\n",
       "  color: var(--sklearn-color-text);\n",
       "}\n",
       "\n",
       "#sk-container-id-1 pre {\n",
       "  padding: 0;\n",
       "}\n",
       "\n",
       "#sk-container-id-1 input.sk-hidden--visually {\n",
       "  border: 0;\n",
       "  clip: rect(1px 1px 1px 1px);\n",
       "  clip: rect(1px, 1px, 1px, 1px);\n",
       "  height: 1px;\n",
       "  margin: -1px;\n",
       "  overflow: hidden;\n",
       "  padding: 0;\n",
       "  position: absolute;\n",
       "  width: 1px;\n",
       "}\n",
       "\n",
       "#sk-container-id-1 div.sk-dashed-wrapped {\n",
       "  border: 1px dashed var(--sklearn-color-line);\n",
       "  margin: 0 0.4em 0.5em 0.4em;\n",
       "  box-sizing: border-box;\n",
       "  padding-bottom: 0.4em;\n",
       "  background-color: var(--sklearn-color-background);\n",
       "}\n",
       "\n",
       "#sk-container-id-1 div.sk-container {\n",
       "  /* jupyter's `normalize.less` sets `[hidden] { display: none; }`\n",
       "     but bootstrap.min.css set `[hidden] { display: none !important; }`\n",
       "     so we also need the `!important` here to be able to override the\n",
       "     default hidden behavior on the sphinx rendered scikit-learn.org.\n",
       "     See: https://github.com/scikit-learn/scikit-learn/issues/21755 */\n",
       "  display: inline-block !important;\n",
       "  position: relative;\n",
       "}\n",
       "\n",
       "#sk-container-id-1 div.sk-text-repr-fallback {\n",
       "  display: none;\n",
       "}\n",
       "\n",
       "div.sk-parallel-item,\n",
       "div.sk-serial,\n",
       "div.sk-item {\n",
       "  /* draw centered vertical line to link estimators */\n",
       "  background-image: linear-gradient(var(--sklearn-color-text-on-default-background), var(--sklearn-color-text-on-default-background));\n",
       "  background-size: 2px 100%;\n",
       "  background-repeat: no-repeat;\n",
       "  background-position: center center;\n",
       "}\n",
       "\n",
       "/* Parallel-specific style estimator block */\n",
       "\n",
       "#sk-container-id-1 div.sk-parallel-item::after {\n",
       "  content: \"\";\n",
       "  width: 100%;\n",
       "  border-bottom: 2px solid var(--sklearn-color-text-on-default-background);\n",
       "  flex-grow: 1;\n",
       "}\n",
       "\n",
       "#sk-container-id-1 div.sk-parallel {\n",
       "  display: flex;\n",
       "  align-items: stretch;\n",
       "  justify-content: center;\n",
       "  background-color: var(--sklearn-color-background);\n",
       "  position: relative;\n",
       "}\n",
       "\n",
       "#sk-container-id-1 div.sk-parallel-item {\n",
       "  display: flex;\n",
       "  flex-direction: column;\n",
       "}\n",
       "\n",
       "#sk-container-id-1 div.sk-parallel-item:first-child::after {\n",
       "  align-self: flex-end;\n",
       "  width: 50%;\n",
       "}\n",
       "\n",
       "#sk-container-id-1 div.sk-parallel-item:last-child::after {\n",
       "  align-self: flex-start;\n",
       "  width: 50%;\n",
       "}\n",
       "\n",
       "#sk-container-id-1 div.sk-parallel-item:only-child::after {\n",
       "  width: 0;\n",
       "}\n",
       "\n",
       "/* Serial-specific style estimator block */\n",
       "\n",
       "#sk-container-id-1 div.sk-serial {\n",
       "  display: flex;\n",
       "  flex-direction: column;\n",
       "  align-items: center;\n",
       "  background-color: var(--sklearn-color-background);\n",
       "  padding-right: 1em;\n",
       "  padding-left: 1em;\n",
       "}\n",
       "\n",
       "\n",
       "/* Toggleable style: style used for estimator/Pipeline/ColumnTransformer box that is\n",
       "clickable and can be expanded/collapsed.\n",
       "- Pipeline and ColumnTransformer use this feature and define the default style\n",
       "- Estimators will overwrite some part of the style using the `sk-estimator` class\n",
       "*/\n",
       "\n",
       "/* Pipeline and ColumnTransformer style (default) */\n",
       "\n",
       "#sk-container-id-1 div.sk-toggleable {\n",
       "  /* Default theme specific background. It is overwritten whether we have a\n",
       "  specific estimator or a Pipeline/ColumnTransformer */\n",
       "  background-color: var(--sklearn-color-background);\n",
       "}\n",
       "\n",
       "/* Toggleable label */\n",
       "#sk-container-id-1 label.sk-toggleable__label {\n",
       "  cursor: pointer;\n",
       "  display: flex;\n",
       "  width: 100%;\n",
       "  margin-bottom: 0;\n",
       "  padding: 0.5em;\n",
       "  box-sizing: border-box;\n",
       "  text-align: center;\n",
       "  align-items: start;\n",
       "  justify-content: space-between;\n",
       "  gap: 0.5em;\n",
       "}\n",
       "\n",
       "#sk-container-id-1 label.sk-toggleable__label .caption {\n",
       "  font-size: 0.6rem;\n",
       "  font-weight: lighter;\n",
       "  color: var(--sklearn-color-text-muted);\n",
       "}\n",
       "\n",
       "#sk-container-id-1 label.sk-toggleable__label-arrow:before {\n",
       "  /* Arrow on the left of the label */\n",
       "  content: \"▸\";\n",
       "  float: left;\n",
       "  margin-right: 0.25em;\n",
       "  color: var(--sklearn-color-icon);\n",
       "}\n",
       "\n",
       "#sk-container-id-1 label.sk-toggleable__label-arrow:hover:before {\n",
       "  color: var(--sklearn-color-text);\n",
       "}\n",
       "\n",
       "/* Toggleable content - dropdown */\n",
       "\n",
       "#sk-container-id-1 div.sk-toggleable__content {\n",
       "  max-height: 0;\n",
       "  max-width: 0;\n",
       "  overflow: hidden;\n",
       "  text-align: left;\n",
       "  /* unfitted */\n",
       "  background-color: var(--sklearn-color-unfitted-level-0);\n",
       "}\n",
       "\n",
       "#sk-container-id-1 div.sk-toggleable__content.fitted {\n",
       "  /* fitted */\n",
       "  background-color: var(--sklearn-color-fitted-level-0);\n",
       "}\n",
       "\n",
       "#sk-container-id-1 div.sk-toggleable__content pre {\n",
       "  margin: 0.2em;\n",
       "  border-radius: 0.25em;\n",
       "  color: var(--sklearn-color-text);\n",
       "  /* unfitted */\n",
       "  background-color: var(--sklearn-color-unfitted-level-0);\n",
       "}\n",
       "\n",
       "#sk-container-id-1 div.sk-toggleable__content.fitted pre {\n",
       "  /* unfitted */\n",
       "  background-color: var(--sklearn-color-fitted-level-0);\n",
       "}\n",
       "\n",
       "#sk-container-id-1 input.sk-toggleable__control:checked~div.sk-toggleable__content {\n",
       "  /* Expand drop-down */\n",
       "  max-height: 200px;\n",
       "  max-width: 100%;\n",
       "  overflow: auto;\n",
       "}\n",
       "\n",
       "#sk-container-id-1 input.sk-toggleable__control:checked~label.sk-toggleable__label-arrow:before {\n",
       "  content: \"▾\";\n",
       "}\n",
       "\n",
       "/* Pipeline/ColumnTransformer-specific style */\n",
       "\n",
       "#sk-container-id-1 div.sk-label input.sk-toggleable__control:checked~label.sk-toggleable__label {\n",
       "  color: var(--sklearn-color-text);\n",
       "  background-color: var(--sklearn-color-unfitted-level-2);\n",
       "}\n",
       "\n",
       "#sk-container-id-1 div.sk-label.fitted input.sk-toggleable__control:checked~label.sk-toggleable__label {\n",
       "  background-color: var(--sklearn-color-fitted-level-2);\n",
       "}\n",
       "\n",
       "/* Estimator-specific style */\n",
       "\n",
       "/* Colorize estimator box */\n",
       "#sk-container-id-1 div.sk-estimator input.sk-toggleable__control:checked~label.sk-toggleable__label {\n",
       "  /* unfitted */\n",
       "  background-color: var(--sklearn-color-unfitted-level-2);\n",
       "}\n",
       "\n",
       "#sk-container-id-1 div.sk-estimator.fitted input.sk-toggleable__control:checked~label.sk-toggleable__label {\n",
       "  /* fitted */\n",
       "  background-color: var(--sklearn-color-fitted-level-2);\n",
       "}\n",
       "\n",
       "#sk-container-id-1 div.sk-label label.sk-toggleable__label,\n",
       "#sk-container-id-1 div.sk-label label {\n",
       "  /* The background is the default theme color */\n",
       "  color: var(--sklearn-color-text-on-default-background);\n",
       "}\n",
       "\n",
       "/* On hover, darken the color of the background */\n",
       "#sk-container-id-1 div.sk-label:hover label.sk-toggleable__label {\n",
       "  color: var(--sklearn-color-text);\n",
       "  background-color: var(--sklearn-color-unfitted-level-2);\n",
       "}\n",
       "\n",
       "/* Label box, darken color on hover, fitted */\n",
       "#sk-container-id-1 div.sk-label.fitted:hover label.sk-toggleable__label.fitted {\n",
       "  color: var(--sklearn-color-text);\n",
       "  background-color: var(--sklearn-color-fitted-level-2);\n",
       "}\n",
       "\n",
       "/* Estimator label */\n",
       "\n",
       "#sk-container-id-1 div.sk-label label {\n",
       "  font-family: monospace;\n",
       "  font-weight: bold;\n",
       "  display: inline-block;\n",
       "  line-height: 1.2em;\n",
       "}\n",
       "\n",
       "#sk-container-id-1 div.sk-label-container {\n",
       "  text-align: center;\n",
       "}\n",
       "\n",
       "/* Estimator-specific */\n",
       "#sk-container-id-1 div.sk-estimator {\n",
       "  font-family: monospace;\n",
       "  border: 1px dotted var(--sklearn-color-border-box);\n",
       "  border-radius: 0.25em;\n",
       "  box-sizing: border-box;\n",
       "  margin-bottom: 0.5em;\n",
       "  /* unfitted */\n",
       "  background-color: var(--sklearn-color-unfitted-level-0);\n",
       "}\n",
       "\n",
       "#sk-container-id-1 div.sk-estimator.fitted {\n",
       "  /* fitted */\n",
       "  background-color: var(--sklearn-color-fitted-level-0);\n",
       "}\n",
       "\n",
       "/* on hover */\n",
       "#sk-container-id-1 div.sk-estimator:hover {\n",
       "  /* unfitted */\n",
       "  background-color: var(--sklearn-color-unfitted-level-2);\n",
       "}\n",
       "\n",
       "#sk-container-id-1 div.sk-estimator.fitted:hover {\n",
       "  /* fitted */\n",
       "  background-color: var(--sklearn-color-fitted-level-2);\n",
       "}\n",
       "\n",
       "/* Specification for estimator info (e.g. \"i\" and \"?\") */\n",
       "\n",
       "/* Common style for \"i\" and \"?\" */\n",
       "\n",
       ".sk-estimator-doc-link,\n",
       "a:link.sk-estimator-doc-link,\n",
       "a:visited.sk-estimator-doc-link {\n",
       "  float: right;\n",
       "  font-size: smaller;\n",
       "  line-height: 1em;\n",
       "  font-family: monospace;\n",
       "  background-color: var(--sklearn-color-background);\n",
       "  border-radius: 1em;\n",
       "  height: 1em;\n",
       "  width: 1em;\n",
       "  text-decoration: none !important;\n",
       "  margin-left: 0.5em;\n",
       "  text-align: center;\n",
       "  /* unfitted */\n",
       "  border: var(--sklearn-color-unfitted-level-1) 1pt solid;\n",
       "  color: var(--sklearn-color-unfitted-level-1);\n",
       "}\n",
       "\n",
       ".sk-estimator-doc-link.fitted,\n",
       "a:link.sk-estimator-doc-link.fitted,\n",
       "a:visited.sk-estimator-doc-link.fitted {\n",
       "  /* fitted */\n",
       "  border: var(--sklearn-color-fitted-level-1) 1pt solid;\n",
       "  color: var(--sklearn-color-fitted-level-1);\n",
       "}\n",
       "\n",
       "/* On hover */\n",
       "div.sk-estimator:hover .sk-estimator-doc-link:hover,\n",
       ".sk-estimator-doc-link:hover,\n",
       "div.sk-label-container:hover .sk-estimator-doc-link:hover,\n",
       ".sk-estimator-doc-link:hover {\n",
       "  /* unfitted */\n",
       "  background-color: var(--sklearn-color-unfitted-level-3);\n",
       "  color: var(--sklearn-color-background);\n",
       "  text-decoration: none;\n",
       "}\n",
       "\n",
       "div.sk-estimator.fitted:hover .sk-estimator-doc-link.fitted:hover,\n",
       ".sk-estimator-doc-link.fitted:hover,\n",
       "div.sk-label-container:hover .sk-estimator-doc-link.fitted:hover,\n",
       ".sk-estimator-doc-link.fitted:hover {\n",
       "  /* fitted */\n",
       "  background-color: var(--sklearn-color-fitted-level-3);\n",
       "  color: var(--sklearn-color-background);\n",
       "  text-decoration: none;\n",
       "}\n",
       "\n",
       "/* Span, style for the box shown on hovering the info icon */\n",
       ".sk-estimator-doc-link span {\n",
       "  display: none;\n",
       "  z-index: 9999;\n",
       "  position: relative;\n",
       "  font-weight: normal;\n",
       "  right: .2ex;\n",
       "  padding: .5ex;\n",
       "  margin: .5ex;\n",
       "  width: min-content;\n",
       "  min-width: 20ex;\n",
       "  max-width: 50ex;\n",
       "  color: var(--sklearn-color-text);\n",
       "  box-shadow: 2pt 2pt 4pt #999;\n",
       "  /* unfitted */\n",
       "  background: var(--sklearn-color-unfitted-level-0);\n",
       "  border: .5pt solid var(--sklearn-color-unfitted-level-3);\n",
       "}\n",
       "\n",
       ".sk-estimator-doc-link.fitted span {\n",
       "  /* fitted */\n",
       "  background: var(--sklearn-color-fitted-level-0);\n",
       "  border: var(--sklearn-color-fitted-level-3);\n",
       "}\n",
       "\n",
       ".sk-estimator-doc-link:hover span {\n",
       "  display: block;\n",
       "}\n",
       "\n",
       "/* \"?\"-specific style due to the `<a>` HTML tag */\n",
       "\n",
       "#sk-container-id-1 a.estimator_doc_link {\n",
       "  float: right;\n",
       "  font-size: 1rem;\n",
       "  line-height: 1em;\n",
       "  font-family: monospace;\n",
       "  background-color: var(--sklearn-color-background);\n",
       "  border-radius: 1rem;\n",
       "  height: 1rem;\n",
       "  width: 1rem;\n",
       "  text-decoration: none;\n",
       "  /* unfitted */\n",
       "  color: var(--sklearn-color-unfitted-level-1);\n",
       "  border: var(--sklearn-color-unfitted-level-1) 1pt solid;\n",
       "}\n",
       "\n",
       "#sk-container-id-1 a.estimator_doc_link.fitted {\n",
       "  /* fitted */\n",
       "  border: var(--sklearn-color-fitted-level-1) 1pt solid;\n",
       "  color: var(--sklearn-color-fitted-level-1);\n",
       "}\n",
       "\n",
       "/* On hover */\n",
       "#sk-container-id-1 a.estimator_doc_link:hover {\n",
       "  /* unfitted */\n",
       "  background-color: var(--sklearn-color-unfitted-level-3);\n",
       "  color: var(--sklearn-color-background);\n",
       "  text-decoration: none;\n",
       "}\n",
       "\n",
       "#sk-container-id-1 a.estimator_doc_link.fitted:hover {\n",
       "  /* fitted */\n",
       "  background-color: var(--sklearn-color-fitted-level-3);\n",
       "}\n",
       "</style><div id=\"sk-container-id-1\" class=\"sk-top-container\"><div class=\"sk-text-repr-fallback\"><pre>LogisticRegression(max_iter=1000, penalty=&#x27;l1&#x27;, solver=&#x27;liblinear&#x27;)</pre><b>In a Jupyter environment, please rerun this cell to show the HTML representation or trust the notebook. <br />On GitHub, the HTML representation is unable to render, please try loading this page with nbviewer.org.</b></div><div class=\"sk-container\" hidden><div class=\"sk-item\"><div class=\"sk-estimator fitted sk-toggleable\"><input class=\"sk-toggleable__control sk-hidden--visually\" id=\"sk-estimator-id-1\" type=\"checkbox\" checked><label for=\"sk-estimator-id-1\" class=\"sk-toggleable__label fitted sk-toggleable__label-arrow\"><div><div>LogisticRegression</div></div><div><a class=\"sk-estimator-doc-link fitted\" rel=\"noreferrer\" target=\"_blank\" href=\"https://scikit-learn.org/1.6/modules/generated/sklearn.linear_model.LogisticRegression.html\">?<span>Documentation for LogisticRegression</span></a><span class=\"sk-estimator-doc-link fitted\">i<span>Fitted</span></span></div></label><div class=\"sk-toggleable__content fitted\"><pre>LogisticRegression(max_iter=1000, penalty=&#x27;l1&#x27;, solver=&#x27;liblinear&#x27;)</pre></div> </div></div></div></div>"
      ],
      "text/plain": [
       "LogisticRegression(max_iter=1000, penalty='l1', solver='liblinear')"
      ]
     },
     "execution_count": 65,
     "metadata": {},
     "output_type": "execute_result"
    }
   ],
   "source": [
    "# Generación y ajuste del modelo de regresión logística, añadiendo una penalización L1 (Lasso)\n",
    "model = LogisticRegression(penalty=\"l1\", max_iter=1000, solver=\"liblinear\")\n",
    "model.fit(X_train, y_train)"
   ]
  },
  {
   "cell_type": "code",
   "execution_count": 66,
   "metadata": {},
   "outputs": [
    {
     "data": {
      "text/plain": [
       "array([[ 0.81005829, -0.31935995,  0.14951579, -0.04646017,  0.03257078,\n",
       "         0.0104537 , -0.01009794, -0.02422041, -0.04372396, -0.02089325,\n",
       "         0.30234197,  0.06278763,  0.1456904 , -0.01226637, -0.18608084,\n",
       "        -0.17418619,  0.        , -0.10138562, -0.34799655,  0.        ,\n",
       "         0.02310663]])"
      ]
     },
     "execution_count": 66,
     "metadata": {},
     "output_type": "execute_result"
    }
   ],
   "source": [
    "# Muestra de los coeficientes del modelo\n",
    "model.coef_"
   ]
  },
  {
   "cell_type": "code",
   "execution_count": 67,
   "metadata": {},
   "outputs": [],
   "source": [
    "# Se añaden los coeficientes resultantes del modelo a un dataframe\n",
    "# Se calculan los odds ratio, que permiten mayor interpretabilidad\n",
    "coefficients = pd.DataFrame({\"feature\": X.columns, \"coefficient\": model.coef_[0]})\n",
    "coefficients[\"odds_ratio\"] = np.exp(coefficients[\"coefficient\"])\n",
    "coefficients = coefficients.sort_values(by=\"odds_ratio\", ascending=False)"
   ]
  },
  {
   "cell_type": "code",
   "execution_count": 68,
   "metadata": {},
   "outputs": [
    {
     "data": {
      "text/html": [
       "<div>\n",
       "<style scoped>\n",
       "    .dataframe tbody tr th:only-of-type {\n",
       "        vertical-align: middle;\n",
       "    }\n",
       "\n",
       "    .dataframe tbody tr th {\n",
       "        vertical-align: top;\n",
       "    }\n",
       "\n",
       "    .dataframe thead th {\n",
       "        text-align: right;\n",
       "    }\n",
       "</style>\n",
       "<table border=\"1\" class=\"dataframe\">\n",
       "  <thead>\n",
       "    <tr style=\"text-align: right;\">\n",
       "      <th></th>\n",
       "      <th>feature</th>\n",
       "      <th>coefficient</th>\n",
       "      <th>odds_ratio</th>\n",
       "    </tr>\n",
       "  </thead>\n",
       "  <tbody>\n",
       "    <tr>\n",
       "      <th>0</th>\n",
       "      <td>sum_fact</td>\n",
       "      <td>0.810058</td>\n",
       "      <td>2.248039</td>\n",
       "    </tr>\n",
       "    <tr>\n",
       "      <th>10</th>\n",
       "      <td>country_region_recat_Mendoza</td>\n",
       "      <td>0.302342</td>\n",
       "      <td>1.353024</td>\n",
       "    </tr>\n",
       "    <tr>\n",
       "      <th>2</th>\n",
       "      <td>target_churn_indicator</td>\n",
       "      <td>0.149516</td>\n",
       "      <td>1.161272</td>\n",
       "    </tr>\n",
       "    <tr>\n",
       "      <th>12</th>\n",
       "      <td>country_region_recat_Salta</td>\n",
       "      <td>0.145690</td>\n",
       "      <td>1.156838</td>\n",
       "    </tr>\n",
       "    <tr>\n",
       "      <th>11</th>\n",
       "      <td>country_region_recat_Otra</td>\n",
       "      <td>0.062788</td>\n",
       "      <td>1.064801</td>\n",
       "    </tr>\n",
       "    <tr>\n",
       "      <th>4</th>\n",
       "      <td>gender_male</td>\n",
       "      <td>0.032571</td>\n",
       "      <td>1.033107</td>\n",
       "    </tr>\n",
       "    <tr>\n",
       "      <th>20</th>\n",
       "      <td>city_recat_Villa Angelica</td>\n",
       "      <td>0.023107</td>\n",
       "      <td>1.023376</td>\n",
       "    </tr>\n",
       "    <tr>\n",
       "      <th>5</th>\n",
       "      <td>gender_unknown</td>\n",
       "      <td>0.010454</td>\n",
       "      <td>1.010509</td>\n",
       "    </tr>\n",
       "    <tr>\n",
       "      <th>16</th>\n",
       "      <td>city_recat_Mendoza</td>\n",
       "      <td>0.000000</td>\n",
       "      <td>1.000000</td>\n",
       "    </tr>\n",
       "    <tr>\n",
       "      <th>19</th>\n",
       "      <td>city_recat_San Miguel de Tucumán</td>\n",
       "      <td>0.000000</td>\n",
       "      <td>1.000000</td>\n",
       "    </tr>\n",
       "    <tr>\n",
       "      <th>6</th>\n",
       "      <td>n_previous_registers_1 o más</td>\n",
       "      <td>-0.010098</td>\n",
       "      <td>0.989953</td>\n",
       "    </tr>\n",
       "    <tr>\n",
       "      <th>13</th>\n",
       "      <td>country_region_recat_Santa Fe</td>\n",
       "      <td>-0.012266</td>\n",
       "      <td>0.987809</td>\n",
       "    </tr>\n",
       "    <tr>\n",
       "      <th>9</th>\n",
       "      <td>country_region_recat_Entre Rios</td>\n",
       "      <td>-0.020893</td>\n",
       "      <td>0.979323</td>\n",
       "    </tr>\n",
       "    <tr>\n",
       "      <th>7</th>\n",
       "      <td>country_region_recat_Buenos Aires F.D.</td>\n",
       "      <td>-0.024220</td>\n",
       "      <td>0.976071</td>\n",
       "    </tr>\n",
       "    <tr>\n",
       "      <th>8</th>\n",
       "      <td>country_region_recat_Cordoba</td>\n",
       "      <td>-0.043724</td>\n",
       "      <td>0.957218</td>\n",
       "    </tr>\n",
       "    <tr>\n",
       "      <th>3</th>\n",
       "      <td>platform_iOS</td>\n",
       "      <td>-0.046460</td>\n",
       "      <td>0.954603</td>\n",
       "    </tr>\n",
       "    <tr>\n",
       "      <th>17</th>\n",
       "      <td>city_recat_Otra</td>\n",
       "      <td>-0.101386</td>\n",
       "      <td>0.903585</td>\n",
       "    </tr>\n",
       "    <tr>\n",
       "      <th>15</th>\n",
       "      <td>city_recat_Córdoba</td>\n",
       "      <td>-0.174186</td>\n",
       "      <td>0.840140</td>\n",
       "    </tr>\n",
       "    <tr>\n",
       "      <th>14</th>\n",
       "      <td>country_region_recat_Tucuman</td>\n",
       "      <td>-0.186081</td>\n",
       "      <td>0.830206</td>\n",
       "    </tr>\n",
       "    <tr>\n",
       "      <th>1</th>\n",
       "      <td>sum_duracion</td>\n",
       "      <td>-0.319360</td>\n",
       "      <td>0.726614</td>\n",
       "    </tr>\n",
       "    <tr>\n",
       "      <th>18</th>\n",
       "      <td>city_recat_Salta</td>\n",
       "      <td>-0.347997</td>\n",
       "      <td>0.706101</td>\n",
       "    </tr>\n",
       "  </tbody>\n",
       "</table>\n",
       "</div>"
      ],
      "text/plain": [
       "                                   feature  coefficient  odds_ratio\n",
       "0                                 sum_fact     0.810058    2.248039\n",
       "10            country_region_recat_Mendoza     0.302342    1.353024\n",
       "2                   target_churn_indicator     0.149516    1.161272\n",
       "12              country_region_recat_Salta     0.145690    1.156838\n",
       "11               country_region_recat_Otra     0.062788    1.064801\n",
       "4                              gender_male     0.032571    1.033107\n",
       "20               city_recat_Villa Angelica     0.023107    1.023376\n",
       "5                           gender_unknown     0.010454    1.010509\n",
       "16                      city_recat_Mendoza     0.000000    1.000000\n",
       "19        city_recat_San Miguel de Tucumán     0.000000    1.000000\n",
       "6             n_previous_registers_1 o más    -0.010098    0.989953\n",
       "13           country_region_recat_Santa Fe    -0.012266    0.987809\n",
       "9          country_region_recat_Entre Rios    -0.020893    0.979323\n",
       "7   country_region_recat_Buenos Aires F.D.    -0.024220    0.976071\n",
       "8             country_region_recat_Cordoba    -0.043724    0.957218\n",
       "3                             platform_iOS    -0.046460    0.954603\n",
       "17                         city_recat_Otra    -0.101386    0.903585\n",
       "15                      city_recat_Córdoba    -0.174186    0.840140\n",
       "14            country_region_recat_Tucuman    -0.186081    0.830206\n",
       "1                             sum_duracion    -0.319360    0.726614\n",
       "18                        city_recat_Salta    -0.347997    0.706101"
      ]
     },
     "execution_count": 68,
     "metadata": {},
     "output_type": "execute_result"
    }
   ],
   "source": [
    "# Muestra de los coeficientes resultantes, organizados según su importancia\n",
    "coefficients"
   ]
  },
  {
   "cell_type": "code",
   "execution_count": 69,
   "metadata": {},
   "outputs": [],
   "source": [
    "# Predicciones de las etiquetas y probabilidades de la variable de respuesta según el modelo entrenado\n",
    "y_pred = model.predict(X_test)\n",
    "y_pred_proba = model.predict_proba(X_test)[:, 1]"
   ]
  },
  {
   "cell_type": "code",
   "execution_count": 72,
   "metadata": {},
   "outputs": [
    {
     "name": "stdout",
     "output_type": "stream",
     "text": [
      "Accuracy: 0.5912844036697248\n",
      "Recall: 0.6526946107784432\n",
      "AUC: 0.6482507642620651\n",
      "\n",
      "Reporte general:\n",
      "               precision    recall  f1-score   support\n",
      "\n",
      "           0       0.56      0.52      0.54      1011\n",
      "           1       0.61      0.65      0.63      1169\n",
      "\n",
      "    accuracy                           0.59      2180\n",
      "   macro avg       0.59      0.59      0.59      2180\n",
      "weighted avg       0.59      0.59      0.59      2180\n",
      "\n"
     ]
    }
   ],
   "source": [
    "# Muestra de la precisión, recall, AUC y reporte general de métricas\n",
    "print(\"Accuracy:\", accuracy_score(y_test, y_pred))\n",
    "print(\"Recall:\", recall_score(y_test, y_pred))\n",
    "print(\"AUC:\", roc_auc_score(y_test, y_pred_proba))\n",
    "print(\"\\nReporte general:\\n\", classification_report(y_test, y_pred))"
   ]
  },
  {
   "cell_type": "code",
   "execution_count": 71,
   "metadata": {},
   "outputs": [
    {
     "data": {
      "image/png": "[encoded data removed]",
      "text/plain": [
       "<Figure size 640x480 with 2 Axes>"
      ]
     },
     "metadata": {},
     "output_type": "display_data"
    }
   ],
   "source": [
    "# Matriz de confusión resultante\n",
    "cm = confusion_matrix(y_test, y_pred)\n",
    "sns.heatmap(cm, annot=True, fmt=\"d\", cmap=\"Blues\")\n",
    "plt.xlabel(\"Predichos\")\n",
    "plt.ylabel(\"Actuales\")\n",
    "plt.title(\"Matriz de confusión\")\n",
    "plt.show()"
   ]
  },
  {
   "cell_type": "markdown",
   "metadata": {},
   "source": [
    "#### **Conclusión a partir del modelo de regresión logística**\n",
    "\n",
    "Al ajustar un modelo de regresión logística con el fin de validar a un mayor nivel estadístico los resultados obtenidos por las gráficas anteriores, los resultados confirman lo previamente mencionado:\n",
    "\n",
    "1. La suma total facturada en el trimestre tiene un impacto sobre los clientes que realizan al menos un cambio en el plan. Particularmente, por cada peso ($) que aumenta el total facturado para un cliente, hay un aumento de 2.25 veces en los *odds* de cambiar de plan (lo que se relaciona con una probabilidad mayor de cambiar de plan).\n",
    "\n",
    "2. Las personas que pertenecen a la región de Mendoza también tienen una mayor probabilidad de cambiar de plan en comparación a personas que residen en otras regiones (*odds ratio* de 1.35).\n",
    "\n",
    "3. De la misma manera, si un cliente está dentro de las campañas de *churn*, sus odds de cambiar de plan son 1.16 veces mayores en comparación a quienes no hacen parte de estas campañas.\n",
    "\n",
    "Adicionalmente, vale la pena mencionar que este modelo tiene un área bajo la curva (AUC) de 0.65, que si bien no es un mal resultado, podría ser mejor si se estudiara la posibilidad de agregar más datos o de probar utilizando otro modelo de clasificación, por ejemplo.\n",
    "\n",
    "Por otro lado, si bien el accuracy no es muy alto (0.59), el recall es de 0.65, que también tiene oportunidades de mejora pero que evidencia que el modelo es aceptable para identificar a los clientes que realmente van a cambiar de plan."
   ]
  }
 ],
 "metadata": {
  "kernelspec": {
   "display_name": "_venv_strata",
   "language": "python",
   "name": "python3"
  },
  "language_info": {
   "codemirror_mode": {
    "name": "ipython",
    "version": 3
   },
   "file_extension": ".py",
   "mimetype": "text/x-python",
   "name": "python",
   "nbconvert_exporter": "python",
   "pygments_lexer": "ipython3",
   "version": "3.10.11"
  }
 },
 "nbformat": 4,
 "nbformat_minor": 2
}
